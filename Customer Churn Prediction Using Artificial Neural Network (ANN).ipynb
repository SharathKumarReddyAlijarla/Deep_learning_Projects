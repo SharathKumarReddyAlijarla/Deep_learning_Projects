{
 "cells": [
  {
   "cell_type": "code",
   "execution_count": 89,
   "id": "cd2db06f",
   "metadata": {},
   "outputs": [],
   "source": [
    "import tensorflow as tf\n",
    "from tensorflow import keras\n",
    "import matplotlib.pyplot as plt\n",
    "%matplotlib inline\n",
    "import numpy as np\n",
    "import pandas as pd\n",
    "import seaborn as sn"
   ]
  },
  {
   "cell_type": "code",
   "execution_count": 90,
   "id": "ddbf72a5",
   "metadata": {},
   "outputs": [],
   "source": [
    "df = pd.read_csv(\"Churn_Modelling.csv\")"
   ]
  },
  {
   "cell_type": "code",
   "execution_count": 91,
   "id": "4b821615",
   "metadata": {},
   "outputs": [
    {
     "data": {
      "text/plain": [
       "(10000, 14)"
      ]
     },
     "execution_count": 91,
     "metadata": {},
     "output_type": "execute_result"
    }
   ],
   "source": [
    "df.shape"
   ]
  },
  {
   "cell_type": "code",
   "execution_count": 92,
   "id": "68854ace",
   "metadata": {},
   "outputs": [
    {
     "data": {
      "text/html": [
       "<div>\n",
       "<style scoped>\n",
       "    .dataframe tbody tr th:only-of-type {\n",
       "        vertical-align: middle;\n",
       "    }\n",
       "\n",
       "    .dataframe tbody tr th {\n",
       "        vertical-align: top;\n",
       "    }\n",
       "\n",
       "    .dataframe thead th {\n",
       "        text-align: right;\n",
       "    }\n",
       "</style>\n",
       "<table border=\"1\" class=\"dataframe\">\n",
       "  <thead>\n",
       "    <tr style=\"text-align: right;\">\n",
       "      <th></th>\n",
       "      <th>RowNumber</th>\n",
       "      <th>CustomerId</th>\n",
       "      <th>Surname</th>\n",
       "      <th>CreditScore</th>\n",
       "      <th>Geography</th>\n",
       "      <th>Gender</th>\n",
       "      <th>Age</th>\n",
       "      <th>Tenure</th>\n",
       "      <th>Balance</th>\n",
       "      <th>NumOfProducts</th>\n",
       "      <th>HasCrCard</th>\n",
       "      <th>IsActiveMember</th>\n",
       "      <th>EstimatedSalary</th>\n",
       "      <th>Exited</th>\n",
       "    </tr>\n",
       "  </thead>\n",
       "  <tbody>\n",
       "    <tr>\n",
       "      <th>0</th>\n",
       "      <td>1</td>\n",
       "      <td>15634602</td>\n",
       "      <td>Hargrave</td>\n",
       "      <td>619</td>\n",
       "      <td>France</td>\n",
       "      <td>Female</td>\n",
       "      <td>42</td>\n",
       "      <td>2</td>\n",
       "      <td>0.00</td>\n",
       "      <td>1</td>\n",
       "      <td>1</td>\n",
       "      <td>1</td>\n",
       "      <td>101348.88</td>\n",
       "      <td>1</td>\n",
       "    </tr>\n",
       "    <tr>\n",
       "      <th>1</th>\n",
       "      <td>2</td>\n",
       "      <td>15647311</td>\n",
       "      <td>Hill</td>\n",
       "      <td>608</td>\n",
       "      <td>Spain</td>\n",
       "      <td>Female</td>\n",
       "      <td>41</td>\n",
       "      <td>1</td>\n",
       "      <td>83807.86</td>\n",
       "      <td>1</td>\n",
       "      <td>0</td>\n",
       "      <td>1</td>\n",
       "      <td>112542.58</td>\n",
       "      <td>0</td>\n",
       "    </tr>\n",
       "    <tr>\n",
       "      <th>2</th>\n",
       "      <td>3</td>\n",
       "      <td>15619304</td>\n",
       "      <td>Onio</td>\n",
       "      <td>502</td>\n",
       "      <td>France</td>\n",
       "      <td>Female</td>\n",
       "      <td>42</td>\n",
       "      <td>8</td>\n",
       "      <td>159660.80</td>\n",
       "      <td>3</td>\n",
       "      <td>1</td>\n",
       "      <td>0</td>\n",
       "      <td>113931.57</td>\n",
       "      <td>1</td>\n",
       "    </tr>\n",
       "    <tr>\n",
       "      <th>3</th>\n",
       "      <td>4</td>\n",
       "      <td>15701354</td>\n",
       "      <td>Boni</td>\n",
       "      <td>699</td>\n",
       "      <td>France</td>\n",
       "      <td>Female</td>\n",
       "      <td>39</td>\n",
       "      <td>1</td>\n",
       "      <td>0.00</td>\n",
       "      <td>2</td>\n",
       "      <td>0</td>\n",
       "      <td>0</td>\n",
       "      <td>93826.63</td>\n",
       "      <td>0</td>\n",
       "    </tr>\n",
       "    <tr>\n",
       "      <th>4</th>\n",
       "      <td>5</td>\n",
       "      <td>15737888</td>\n",
       "      <td>Mitchell</td>\n",
       "      <td>850</td>\n",
       "      <td>Spain</td>\n",
       "      <td>Female</td>\n",
       "      <td>43</td>\n",
       "      <td>2</td>\n",
       "      <td>125510.82</td>\n",
       "      <td>1</td>\n",
       "      <td>1</td>\n",
       "      <td>1</td>\n",
       "      <td>79084.10</td>\n",
       "      <td>0</td>\n",
       "    </tr>\n",
       "  </tbody>\n",
       "</table>\n",
       "</div>"
      ],
      "text/plain": [
       "   RowNumber  CustomerId   Surname  CreditScore Geography  Gender  Age  \\\n",
       "0          1    15634602  Hargrave          619    France  Female   42   \n",
       "1          2    15647311      Hill          608     Spain  Female   41   \n",
       "2          3    15619304      Onio          502    France  Female   42   \n",
       "3          4    15701354      Boni          699    France  Female   39   \n",
       "4          5    15737888  Mitchell          850     Spain  Female   43   \n",
       "\n",
       "   Tenure    Balance  NumOfProducts  HasCrCard  IsActiveMember  \\\n",
       "0       2       0.00              1          1               1   \n",
       "1       1   83807.86              1          0               1   \n",
       "2       8  159660.80              3          1               0   \n",
       "3       1       0.00              2          0               0   \n",
       "4       2  125510.82              1          1               1   \n",
       "\n",
       "   EstimatedSalary  Exited  \n",
       "0        101348.88       1  \n",
       "1        112542.58       0  \n",
       "2        113931.57       1  \n",
       "3         93826.63       0  \n",
       "4         79084.10       0  "
      ]
     },
     "execution_count": 92,
     "metadata": {},
     "output_type": "execute_result"
    }
   ],
   "source": [
    "df.head()"
   ]
  },
  {
   "cell_type": "code",
   "execution_count": 93,
   "id": "849aa53d",
   "metadata": {},
   "outputs": [],
   "source": [
    "df.drop([\"RowNumber\", \"CustomerId\",\"Surname\"], axis =1, inplace = True)"
   ]
  },
  {
   "cell_type": "code",
   "execution_count": 94,
   "id": "c6cf4ee3",
   "metadata": {},
   "outputs": [
    {
     "data": {
      "text/html": [
       "<div>\n",
       "<style scoped>\n",
       "    .dataframe tbody tr th:only-of-type {\n",
       "        vertical-align: middle;\n",
       "    }\n",
       "\n",
       "    .dataframe tbody tr th {\n",
       "        vertical-align: top;\n",
       "    }\n",
       "\n",
       "    .dataframe thead th {\n",
       "        text-align: right;\n",
       "    }\n",
       "</style>\n",
       "<table border=\"1\" class=\"dataframe\">\n",
       "  <thead>\n",
       "    <tr style=\"text-align: right;\">\n",
       "      <th></th>\n",
       "      <th>CreditScore</th>\n",
       "      <th>Geography</th>\n",
       "      <th>Gender</th>\n",
       "      <th>Age</th>\n",
       "      <th>Tenure</th>\n",
       "      <th>Balance</th>\n",
       "      <th>NumOfProducts</th>\n",
       "      <th>HasCrCard</th>\n",
       "      <th>IsActiveMember</th>\n",
       "      <th>EstimatedSalary</th>\n",
       "      <th>Exited</th>\n",
       "    </tr>\n",
       "  </thead>\n",
       "  <tbody>\n",
       "    <tr>\n",
       "      <th>0</th>\n",
       "      <td>619</td>\n",
       "      <td>France</td>\n",
       "      <td>Female</td>\n",
       "      <td>42</td>\n",
       "      <td>2</td>\n",
       "      <td>0.00</td>\n",
       "      <td>1</td>\n",
       "      <td>1</td>\n",
       "      <td>1</td>\n",
       "      <td>101348.88</td>\n",
       "      <td>1</td>\n",
       "    </tr>\n",
       "    <tr>\n",
       "      <th>1</th>\n",
       "      <td>608</td>\n",
       "      <td>Spain</td>\n",
       "      <td>Female</td>\n",
       "      <td>41</td>\n",
       "      <td>1</td>\n",
       "      <td>83807.86</td>\n",
       "      <td>1</td>\n",
       "      <td>0</td>\n",
       "      <td>1</td>\n",
       "      <td>112542.58</td>\n",
       "      <td>0</td>\n",
       "    </tr>\n",
       "    <tr>\n",
       "      <th>2</th>\n",
       "      <td>502</td>\n",
       "      <td>France</td>\n",
       "      <td>Female</td>\n",
       "      <td>42</td>\n",
       "      <td>8</td>\n",
       "      <td>159660.80</td>\n",
       "      <td>3</td>\n",
       "      <td>1</td>\n",
       "      <td>0</td>\n",
       "      <td>113931.57</td>\n",
       "      <td>1</td>\n",
       "    </tr>\n",
       "    <tr>\n",
       "      <th>3</th>\n",
       "      <td>699</td>\n",
       "      <td>France</td>\n",
       "      <td>Female</td>\n",
       "      <td>39</td>\n",
       "      <td>1</td>\n",
       "      <td>0.00</td>\n",
       "      <td>2</td>\n",
       "      <td>0</td>\n",
       "      <td>0</td>\n",
       "      <td>93826.63</td>\n",
       "      <td>0</td>\n",
       "    </tr>\n",
       "    <tr>\n",
       "      <th>4</th>\n",
       "      <td>850</td>\n",
       "      <td>Spain</td>\n",
       "      <td>Female</td>\n",
       "      <td>43</td>\n",
       "      <td>2</td>\n",
       "      <td>125510.82</td>\n",
       "      <td>1</td>\n",
       "      <td>1</td>\n",
       "      <td>1</td>\n",
       "      <td>79084.10</td>\n",
       "      <td>0</td>\n",
       "    </tr>\n",
       "  </tbody>\n",
       "</table>\n",
       "</div>"
      ],
      "text/plain": [
       "   CreditScore Geography  Gender  Age  Tenure    Balance  NumOfProducts  \\\n",
       "0          619    France  Female   42       2       0.00              1   \n",
       "1          608     Spain  Female   41       1   83807.86              1   \n",
       "2          502    France  Female   42       8  159660.80              3   \n",
       "3          699    France  Female   39       1       0.00              2   \n",
       "4          850     Spain  Female   43       2  125510.82              1   \n",
       "\n",
       "   HasCrCard  IsActiveMember  EstimatedSalary  Exited  \n",
       "0          1               1        101348.88       1  \n",
       "1          0               1        112542.58       0  \n",
       "2          1               0        113931.57       1  \n",
       "3          0               0         93826.63       0  \n",
       "4          1               1         79084.10       0  "
      ]
     },
     "execution_count": 94,
     "metadata": {},
     "output_type": "execute_result"
    }
   ],
   "source": [
    "df.head()"
   ]
  },
  {
   "cell_type": "code",
   "execution_count": 95,
   "id": "20819495",
   "metadata": {},
   "outputs": [
    {
     "data": {
      "text/plain": [
       "CreditScore        False\n",
       "Geography          False\n",
       "Gender             False\n",
       "Age                False\n",
       "Tenure             False\n",
       "Balance            False\n",
       "NumOfProducts      False\n",
       "HasCrCard          False\n",
       "IsActiveMember     False\n",
       "EstimatedSalary    False\n",
       "Exited             False\n",
       "dtype: bool"
      ]
     },
     "execution_count": 95,
     "metadata": {},
     "output_type": "execute_result"
    }
   ],
   "source": [
    "df.isnull().any()"
   ]
  },
  {
   "cell_type": "markdown",
   "id": "2e9e5347",
   "metadata": {},
   "source": [
    "#### No null values"
   ]
  },
  {
   "cell_type": "code",
   "execution_count": 96,
   "id": "29381c76",
   "metadata": {},
   "outputs": [
    {
     "data": {
      "text/plain": [
       "CreditScore          int64\n",
       "Geography           object\n",
       "Gender              object\n",
       "Age                  int64\n",
       "Tenure               int64\n",
       "Balance            float64\n",
       "NumOfProducts        int64\n",
       "HasCrCard            int64\n",
       "IsActiveMember       int64\n",
       "EstimatedSalary    float64\n",
       "Exited               int64\n",
       "dtype: object"
      ]
     },
     "execution_count": 96,
     "metadata": {},
     "output_type": "execute_result"
    }
   ],
   "source": [
    "df.dtypes"
   ]
  },
  {
   "cell_type": "code",
   "execution_count": 97,
   "id": "306fcc7b",
   "metadata": {},
   "outputs": [
    {
     "data": {
      "text/plain": [
       "array(['Female', 'Male'], dtype=object)"
      ]
     },
     "execution_count": 97,
     "metadata": {},
     "output_type": "execute_result"
    }
   ],
   "source": [
    "\n",
    "df[\"Gender\"].unique()"
   ]
  },
  {
   "cell_type": "code",
   "execution_count": 98,
   "id": "d84d6c6b",
   "metadata": {},
   "outputs": [],
   "source": [
    "df['Gender'].replace({'Female':1,'Male':0},inplace=True)"
   ]
  },
  {
   "cell_type": "code",
   "execution_count": 99,
   "id": "f2a2b10f",
   "metadata": {},
   "outputs": [
    {
     "data": {
      "text/plain": [
       "array(['France', 'Spain', 'Germany'], dtype=object)"
      ]
     },
     "execution_count": 99,
     "metadata": {},
     "output_type": "execute_result"
    }
   ],
   "source": [
    "df[\"Geography\"].unique()"
   ]
  },
  {
   "cell_type": "code",
   "execution_count": 100,
   "id": "6935fa0e",
   "metadata": {},
   "outputs": [],
   "source": [
    " df_1 = pd.get_dummies(data=df, columns=['Geography'])"
   ]
  },
  {
   "cell_type": "code",
   "execution_count": 101,
   "id": "5886c346",
   "metadata": {},
   "outputs": [
    {
     "data": {
      "text/html": [
       "<div>\n",
       "<style scoped>\n",
       "    .dataframe tbody tr th:only-of-type {\n",
       "        vertical-align: middle;\n",
       "    }\n",
       "\n",
       "    .dataframe tbody tr th {\n",
       "        vertical-align: top;\n",
       "    }\n",
       "\n",
       "    .dataframe thead th {\n",
       "        text-align: right;\n",
       "    }\n",
       "</style>\n",
       "<table border=\"1\" class=\"dataframe\">\n",
       "  <thead>\n",
       "    <tr style=\"text-align: right;\">\n",
       "      <th></th>\n",
       "      <th>CreditScore</th>\n",
       "      <th>Gender</th>\n",
       "      <th>Age</th>\n",
       "      <th>Tenure</th>\n",
       "      <th>Balance</th>\n",
       "      <th>NumOfProducts</th>\n",
       "      <th>HasCrCard</th>\n",
       "      <th>IsActiveMember</th>\n",
       "      <th>EstimatedSalary</th>\n",
       "      <th>Exited</th>\n",
       "      <th>Geography_France</th>\n",
       "      <th>Geography_Germany</th>\n",
       "      <th>Geography_Spain</th>\n",
       "    </tr>\n",
       "  </thead>\n",
       "  <tbody>\n",
       "    <tr>\n",
       "      <th>0</th>\n",
       "      <td>619</td>\n",
       "      <td>1</td>\n",
       "      <td>42</td>\n",
       "      <td>2</td>\n",
       "      <td>0.00</td>\n",
       "      <td>1</td>\n",
       "      <td>1</td>\n",
       "      <td>1</td>\n",
       "      <td>101348.88</td>\n",
       "      <td>1</td>\n",
       "      <td>1</td>\n",
       "      <td>0</td>\n",
       "      <td>0</td>\n",
       "    </tr>\n",
       "    <tr>\n",
       "      <th>1</th>\n",
       "      <td>608</td>\n",
       "      <td>1</td>\n",
       "      <td>41</td>\n",
       "      <td>1</td>\n",
       "      <td>83807.86</td>\n",
       "      <td>1</td>\n",
       "      <td>0</td>\n",
       "      <td>1</td>\n",
       "      <td>112542.58</td>\n",
       "      <td>0</td>\n",
       "      <td>0</td>\n",
       "      <td>0</td>\n",
       "      <td>1</td>\n",
       "    </tr>\n",
       "    <tr>\n",
       "      <th>2</th>\n",
       "      <td>502</td>\n",
       "      <td>1</td>\n",
       "      <td>42</td>\n",
       "      <td>8</td>\n",
       "      <td>159660.80</td>\n",
       "      <td>3</td>\n",
       "      <td>1</td>\n",
       "      <td>0</td>\n",
       "      <td>113931.57</td>\n",
       "      <td>1</td>\n",
       "      <td>1</td>\n",
       "      <td>0</td>\n",
       "      <td>0</td>\n",
       "    </tr>\n",
       "    <tr>\n",
       "      <th>3</th>\n",
       "      <td>699</td>\n",
       "      <td>1</td>\n",
       "      <td>39</td>\n",
       "      <td>1</td>\n",
       "      <td>0.00</td>\n",
       "      <td>2</td>\n",
       "      <td>0</td>\n",
       "      <td>0</td>\n",
       "      <td>93826.63</td>\n",
       "      <td>0</td>\n",
       "      <td>1</td>\n",
       "      <td>0</td>\n",
       "      <td>0</td>\n",
       "    </tr>\n",
       "    <tr>\n",
       "      <th>4</th>\n",
       "      <td>850</td>\n",
       "      <td>1</td>\n",
       "      <td>43</td>\n",
       "      <td>2</td>\n",
       "      <td>125510.82</td>\n",
       "      <td>1</td>\n",
       "      <td>1</td>\n",
       "      <td>1</td>\n",
       "      <td>79084.10</td>\n",
       "      <td>0</td>\n",
       "      <td>0</td>\n",
       "      <td>0</td>\n",
       "      <td>1</td>\n",
       "    </tr>\n",
       "    <tr>\n",
       "      <th>...</th>\n",
       "      <td>...</td>\n",
       "      <td>...</td>\n",
       "      <td>...</td>\n",
       "      <td>...</td>\n",
       "      <td>...</td>\n",
       "      <td>...</td>\n",
       "      <td>...</td>\n",
       "      <td>...</td>\n",
       "      <td>...</td>\n",
       "      <td>...</td>\n",
       "      <td>...</td>\n",
       "      <td>...</td>\n",
       "      <td>...</td>\n",
       "    </tr>\n",
       "    <tr>\n",
       "      <th>9995</th>\n",
       "      <td>771</td>\n",
       "      <td>0</td>\n",
       "      <td>39</td>\n",
       "      <td>5</td>\n",
       "      <td>0.00</td>\n",
       "      <td>2</td>\n",
       "      <td>1</td>\n",
       "      <td>0</td>\n",
       "      <td>96270.64</td>\n",
       "      <td>0</td>\n",
       "      <td>1</td>\n",
       "      <td>0</td>\n",
       "      <td>0</td>\n",
       "    </tr>\n",
       "    <tr>\n",
       "      <th>9996</th>\n",
       "      <td>516</td>\n",
       "      <td>0</td>\n",
       "      <td>35</td>\n",
       "      <td>10</td>\n",
       "      <td>57369.61</td>\n",
       "      <td>1</td>\n",
       "      <td>1</td>\n",
       "      <td>1</td>\n",
       "      <td>101699.77</td>\n",
       "      <td>0</td>\n",
       "      <td>1</td>\n",
       "      <td>0</td>\n",
       "      <td>0</td>\n",
       "    </tr>\n",
       "    <tr>\n",
       "      <th>9997</th>\n",
       "      <td>709</td>\n",
       "      <td>1</td>\n",
       "      <td>36</td>\n",
       "      <td>7</td>\n",
       "      <td>0.00</td>\n",
       "      <td>1</td>\n",
       "      <td>0</td>\n",
       "      <td>1</td>\n",
       "      <td>42085.58</td>\n",
       "      <td>1</td>\n",
       "      <td>1</td>\n",
       "      <td>0</td>\n",
       "      <td>0</td>\n",
       "    </tr>\n",
       "    <tr>\n",
       "      <th>9998</th>\n",
       "      <td>772</td>\n",
       "      <td>0</td>\n",
       "      <td>42</td>\n",
       "      <td>3</td>\n",
       "      <td>75075.31</td>\n",
       "      <td>2</td>\n",
       "      <td>1</td>\n",
       "      <td>0</td>\n",
       "      <td>92888.52</td>\n",
       "      <td>1</td>\n",
       "      <td>0</td>\n",
       "      <td>1</td>\n",
       "      <td>0</td>\n",
       "    </tr>\n",
       "    <tr>\n",
       "      <th>9999</th>\n",
       "      <td>792</td>\n",
       "      <td>1</td>\n",
       "      <td>28</td>\n",
       "      <td>4</td>\n",
       "      <td>130142.79</td>\n",
       "      <td>1</td>\n",
       "      <td>1</td>\n",
       "      <td>0</td>\n",
       "      <td>38190.78</td>\n",
       "      <td>0</td>\n",
       "      <td>1</td>\n",
       "      <td>0</td>\n",
       "      <td>0</td>\n",
       "    </tr>\n",
       "  </tbody>\n",
       "</table>\n",
       "<p>10000 rows × 13 columns</p>\n",
       "</div>"
      ],
      "text/plain": [
       "      CreditScore  Gender  Age  Tenure    Balance  NumOfProducts  HasCrCard  \\\n",
       "0             619       1   42       2       0.00              1          1   \n",
       "1             608       1   41       1   83807.86              1          0   \n",
       "2             502       1   42       8  159660.80              3          1   \n",
       "3             699       1   39       1       0.00              2          0   \n",
       "4             850       1   43       2  125510.82              1          1   \n",
       "...           ...     ...  ...     ...        ...            ...        ...   \n",
       "9995          771       0   39       5       0.00              2          1   \n",
       "9996          516       0   35      10   57369.61              1          1   \n",
       "9997          709       1   36       7       0.00              1          0   \n",
       "9998          772       0   42       3   75075.31              2          1   \n",
       "9999          792       1   28       4  130142.79              1          1   \n",
       "\n",
       "      IsActiveMember  EstimatedSalary  Exited  Geography_France  \\\n",
       "0                  1        101348.88       1                 1   \n",
       "1                  1        112542.58       0                 0   \n",
       "2                  0        113931.57       1                 1   \n",
       "3                  0         93826.63       0                 1   \n",
       "4                  1         79084.10       0                 0   \n",
       "...              ...              ...     ...               ...   \n",
       "9995               0         96270.64       0                 1   \n",
       "9996               1        101699.77       0                 1   \n",
       "9997               1         42085.58       1                 1   \n",
       "9998               0         92888.52       1                 0   \n",
       "9999               0         38190.78       0                 1   \n",
       "\n",
       "      Geography_Germany  Geography_Spain  \n",
       "0                     0                0  \n",
       "1                     0                1  \n",
       "2                     0                0  \n",
       "3                     0                0  \n",
       "4                     0                1  \n",
       "...                 ...              ...  \n",
       "9995                  0                0  \n",
       "9996                  0                0  \n",
       "9997                  0                0  \n",
       "9998                  1                0  \n",
       "9999                  0                0  \n",
       "\n",
       "[10000 rows x 13 columns]"
      ]
     },
     "execution_count": 101,
     "metadata": {},
     "output_type": "execute_result"
    }
   ],
   "source": [
    "df_1\n"
   ]
  },
  {
   "cell_type": "code",
   "execution_count": 102,
   "id": "90932063",
   "metadata": {},
   "outputs": [
    {
     "data": {
      "text/plain": [
       "CreditScore            int64\n",
       "Gender                 int64\n",
       "Age                    int64\n",
       "Tenure                 int64\n",
       "Balance              float64\n",
       "NumOfProducts          int64\n",
       "HasCrCard              int64\n",
       "IsActiveMember         int64\n",
       "EstimatedSalary      float64\n",
       "Exited                 int64\n",
       "Geography_France       uint8\n",
       "Geography_Germany      uint8\n",
       "Geography_Spain        uint8\n",
       "dtype: object"
      ]
     },
     "execution_count": 102,
     "metadata": {},
     "output_type": "execute_result"
    }
   ],
   "source": [
    "df_1.dtypes"
   ]
  },
  {
   "cell_type": "code",
   "execution_count": 103,
   "id": "a053dcab",
   "metadata": {},
   "outputs": [],
   "source": [
    "from sklearn.preprocessing import MinMaxScaler\n",
    "columns_to_scale = ['CreditScore', 'Age', 'Tenure', 'Balance', 'NumOfProducts', 'EstimatedSalary']\n",
    "\n",
    "scaler = MinMaxScaler()\n",
    "df_1[columns_to_scale] = scaler.fit_transform(df_1[columns_to_scale])"
   ]
  },
  {
   "cell_type": "code",
   "execution_count": 104,
   "id": "20052378",
   "metadata": {},
   "outputs": [
    {
     "data": {
      "text/plain": [
       "(10000, 13)"
      ]
     },
     "execution_count": 104,
     "metadata": {},
     "output_type": "execute_result"
    }
   ],
   "source": [
    "df_1.shape"
   ]
  },
  {
   "cell_type": "code",
   "execution_count": 105,
   "id": "7fcd1d48",
   "metadata": {},
   "outputs": [
    {
     "data": {
      "text/html": [
       "<div>\n",
       "<style scoped>\n",
       "    .dataframe tbody tr th:only-of-type {\n",
       "        vertical-align: middle;\n",
       "    }\n",
       "\n",
       "    .dataframe tbody tr th {\n",
       "        vertical-align: top;\n",
       "    }\n",
       "\n",
       "    .dataframe thead th {\n",
       "        text-align: right;\n",
       "    }\n",
       "</style>\n",
       "<table border=\"1\" class=\"dataframe\">\n",
       "  <thead>\n",
       "    <tr style=\"text-align: right;\">\n",
       "      <th></th>\n",
       "      <th>CreditScore</th>\n",
       "      <th>Gender</th>\n",
       "      <th>Age</th>\n",
       "      <th>Tenure</th>\n",
       "      <th>Balance</th>\n",
       "      <th>NumOfProducts</th>\n",
       "      <th>HasCrCard</th>\n",
       "      <th>IsActiveMember</th>\n",
       "      <th>EstimatedSalary</th>\n",
       "      <th>Exited</th>\n",
       "      <th>Geography_France</th>\n",
       "      <th>Geography_Germany</th>\n",
       "      <th>Geography_Spain</th>\n",
       "    </tr>\n",
       "  </thead>\n",
       "  <tbody>\n",
       "    <tr>\n",
       "      <th>0</th>\n",
       "      <td>0.538</td>\n",
       "      <td>1</td>\n",
       "      <td>0.324324</td>\n",
       "      <td>0.2</td>\n",
       "      <td>0.000000</td>\n",
       "      <td>0.000000</td>\n",
       "      <td>1</td>\n",
       "      <td>1</td>\n",
       "      <td>0.506735</td>\n",
       "      <td>1</td>\n",
       "      <td>1</td>\n",
       "      <td>0</td>\n",
       "      <td>0</td>\n",
       "    </tr>\n",
       "    <tr>\n",
       "      <th>1</th>\n",
       "      <td>0.516</td>\n",
       "      <td>1</td>\n",
       "      <td>0.310811</td>\n",
       "      <td>0.1</td>\n",
       "      <td>0.334031</td>\n",
       "      <td>0.000000</td>\n",
       "      <td>0</td>\n",
       "      <td>1</td>\n",
       "      <td>0.562709</td>\n",
       "      <td>0</td>\n",
       "      <td>0</td>\n",
       "      <td>0</td>\n",
       "      <td>1</td>\n",
       "    </tr>\n",
       "    <tr>\n",
       "      <th>2</th>\n",
       "      <td>0.304</td>\n",
       "      <td>1</td>\n",
       "      <td>0.324324</td>\n",
       "      <td>0.8</td>\n",
       "      <td>0.636357</td>\n",
       "      <td>0.666667</td>\n",
       "      <td>1</td>\n",
       "      <td>0</td>\n",
       "      <td>0.569654</td>\n",
       "      <td>1</td>\n",
       "      <td>1</td>\n",
       "      <td>0</td>\n",
       "      <td>0</td>\n",
       "    </tr>\n",
       "    <tr>\n",
       "      <th>3</th>\n",
       "      <td>0.698</td>\n",
       "      <td>1</td>\n",
       "      <td>0.283784</td>\n",
       "      <td>0.1</td>\n",
       "      <td>0.000000</td>\n",
       "      <td>0.333333</td>\n",
       "      <td>0</td>\n",
       "      <td>0</td>\n",
       "      <td>0.469120</td>\n",
       "      <td>0</td>\n",
       "      <td>1</td>\n",
       "      <td>0</td>\n",
       "      <td>0</td>\n",
       "    </tr>\n",
       "    <tr>\n",
       "      <th>4</th>\n",
       "      <td>1.000</td>\n",
       "      <td>1</td>\n",
       "      <td>0.337838</td>\n",
       "      <td>0.2</td>\n",
       "      <td>0.500246</td>\n",
       "      <td>0.000000</td>\n",
       "      <td>1</td>\n",
       "      <td>1</td>\n",
       "      <td>0.395400</td>\n",
       "      <td>0</td>\n",
       "      <td>0</td>\n",
       "      <td>0</td>\n",
       "      <td>1</td>\n",
       "    </tr>\n",
       "  </tbody>\n",
       "</table>\n",
       "</div>"
      ],
      "text/plain": [
       "   CreditScore  Gender       Age  Tenure   Balance  NumOfProducts  HasCrCard  \\\n",
       "0        0.538       1  0.324324     0.2  0.000000       0.000000          1   \n",
       "1        0.516       1  0.310811     0.1  0.334031       0.000000          0   \n",
       "2        0.304       1  0.324324     0.8  0.636357       0.666667          1   \n",
       "3        0.698       1  0.283784     0.1  0.000000       0.333333          0   \n",
       "4        1.000       1  0.337838     0.2  0.500246       0.000000          1   \n",
       "\n",
       "   IsActiveMember  EstimatedSalary  Exited  Geography_France  \\\n",
       "0               1         0.506735       1                 1   \n",
       "1               1         0.562709       0                 0   \n",
       "2               0         0.569654       1                 1   \n",
       "3               0         0.469120       0                 1   \n",
       "4               1         0.395400       0                 0   \n",
       "\n",
       "   Geography_Germany  Geography_Spain  \n",
       "0                  0                0  \n",
       "1                  0                1  \n",
       "2                  0                0  \n",
       "3                  0                0  \n",
       "4                  0                1  "
      ]
     },
     "execution_count": 105,
     "metadata": {},
     "output_type": "execute_result"
    }
   ],
   "source": [
    "df_1.head()"
   ]
  },
  {
   "cell_type": "code",
   "execution_count": 106,
   "id": "643c09d4",
   "metadata": {},
   "outputs": [],
   "source": [
    "X = df_1.drop('Exited',axis='columns')\n",
    "y = df_1['Exited']"
   ]
  },
  {
   "cell_type": "code",
   "execution_count": 107,
   "id": "ff85ae3e",
   "metadata": {},
   "outputs": [],
   "source": [
    " from sklearn.model_selection import train_test_split\n",
    "X_train, X_test, y_train, y_test = train_test_split(X, y, test_size=0.33, random_state=42)"
   ]
  },
  {
   "cell_type": "code",
   "execution_count": 108,
   "id": "77e8cd82",
   "metadata": {},
   "outputs": [],
   "source": [
    "model = keras.Sequential([\n",
    "    keras.layers.Dense(13, input_shape=(12,), activation='relu'),\n",
    "    keras.layers.Dense(8, activation ='relu'),\n",
    "    keras.layers.Dense(1, activation ='sigmoid')\n",
    "])"
   ]
  },
  {
   "cell_type": "code",
   "execution_count": 109,
   "id": "44a4359e",
   "metadata": {},
   "outputs": [
    {
     "name": "stdout",
     "output_type": "stream",
     "text": [
      "Epoch 1/100\n",
      "210/210 [==============================] - 1s 1ms/step - loss: 0.5819 - accuracy: 0.7494\n",
      "Epoch 2/100\n",
      "210/210 [==============================] - 0s 2ms/step - loss: 0.4978 - accuracy: 0.7919\n",
      "Epoch 3/100\n",
      "210/210 [==============================] - 0s 2ms/step - loss: 0.4905 - accuracy: 0.7919\n",
      "Epoch 4/100\n",
      "210/210 [==============================] - 0s 2ms/step - loss: 0.4871 - accuracy: 0.7919\n",
      "Epoch 5/100\n",
      "210/210 [==============================] - 0s 2ms/step - loss: 0.4839 - accuracy: 0.7919\n",
      "Epoch 6/100\n",
      "210/210 [==============================] - 0s 2ms/step - loss: 0.4814 - accuracy: 0.7919\n",
      "Epoch 7/100\n",
      "210/210 [==============================] - 0s 2ms/step - loss: 0.4794 - accuracy: 0.7922\n",
      "Epoch 8/100\n",
      "210/210 [==============================] - 0s 2ms/step - loss: 0.4775 - accuracy: 0.7922\n",
      "Epoch 9/100\n",
      "210/210 [==============================] - 0s 1ms/step - loss: 0.4756 - accuracy: 0.7930\n",
      "Epoch 10/100\n",
      "210/210 [==============================] - 0s 1ms/step - loss: 0.4741 - accuracy: 0.7939\n",
      "Epoch 11/100\n",
      "210/210 [==============================] - 0s 2ms/step - loss: 0.4726 - accuracy: 0.7949\n",
      "Epoch 12/100\n",
      "210/210 [==============================] - 0s 2ms/step - loss: 0.4714 - accuracy: 0.7939\n",
      "Epoch 13/100\n",
      "210/210 [==============================] - 0s 2ms/step - loss: 0.4701 - accuracy: 0.7943\n",
      "Epoch 14/100\n",
      "210/210 [==============================] - 0s 1ms/step - loss: 0.4687 - accuracy: 0.7943\n",
      "Epoch 15/100\n",
      "210/210 [==============================] - 0s 1ms/step - loss: 0.4675 - accuracy: 0.7966\n",
      "Epoch 16/100\n",
      "210/210 [==============================] - 0s 1ms/step - loss: 0.4661 - accuracy: 0.7979\n",
      "Epoch 17/100\n",
      "210/210 [==============================] - 0s 2ms/step - loss: 0.4649 - accuracy: 0.7984\n",
      "Epoch 18/100\n",
      "210/210 [==============================] - 0s 2ms/step - loss: 0.4634 - accuracy: 0.7981\n",
      "Epoch 19/100\n",
      "210/210 [==============================] - 0s 2ms/step - loss: 0.4622 - accuracy: 0.7991\n",
      "Epoch 20/100\n",
      "210/210 [==============================] - 0s 2ms/step - loss: 0.4607 - accuracy: 0.8003\n",
      "Epoch 21/100\n",
      "210/210 [==============================] - 0s 1ms/step - loss: 0.4593 - accuracy: 0.7999\n",
      "Epoch 22/100\n",
      "210/210 [==============================] - 0s 2ms/step - loss: 0.4579 - accuracy: 0.8001\n",
      "Epoch 23/100\n",
      "210/210 [==============================] - 0s 2ms/step - loss: 0.4563 - accuracy: 0.8010\n",
      "Epoch 24/100\n",
      "210/210 [==============================] - 1s 3ms/step - loss: 0.4546 - accuracy: 0.8034\n",
      "Epoch 25/100\n",
      "210/210 [==============================] - 0s 1ms/step - loss: 0.4534 - accuracy: 0.8013\n",
      "Epoch 26/100\n",
      "210/210 [==============================] - 0s 2ms/step - loss: 0.4518 - accuracy: 0.8024\n",
      "Epoch 27/100\n",
      "210/210 [==============================] - 0s 2ms/step - loss: 0.4501 - accuracy: 0.8037\n",
      "Epoch 28/100\n",
      "210/210 [==============================] - 0s 2ms/step - loss: 0.4486 - accuracy: 0.8049\n",
      "Epoch 29/100\n",
      "210/210 [==============================] - 0s 2ms/step - loss: 0.4468 - accuracy: 0.8051\n",
      "Epoch 30/100\n",
      "210/210 [==============================] - 0s 2ms/step - loss: 0.4456 - accuracy: 0.8063\n",
      "Epoch 31/100\n",
      "210/210 [==============================] - 0s 2ms/step - loss: 0.4441 - accuracy: 0.8085\n",
      "Epoch 32/100\n",
      "210/210 [==============================] - 0s 2ms/step - loss: 0.4429 - accuracy: 0.8064\n",
      "Epoch 33/100\n",
      "210/210 [==============================] - 0s 1ms/step - loss: 0.4410 - accuracy: 0.8087\n",
      "Epoch 34/100\n",
      "210/210 [==============================] - 0s 2ms/step - loss: 0.4402 - accuracy: 0.8103\n",
      "Epoch 35/100\n",
      "210/210 [==============================] - 0s 2ms/step - loss: 0.4391 - accuracy: 0.8091\n",
      "Epoch 36/100\n",
      "210/210 [==============================] - 0s 2ms/step - loss: 0.4379 - accuracy: 0.8101\n",
      "Epoch 37/100\n",
      "210/210 [==============================] - 0s 2ms/step - loss: 0.4367 - accuracy: 0.8101\n",
      "Epoch 38/100\n",
      "210/210 [==============================] - 0s 2ms/step - loss: 0.4365 - accuracy: 0.8096\n",
      "Epoch 39/100\n",
      "210/210 [==============================] - 0s 2ms/step - loss: 0.4357 - accuracy: 0.8104\n",
      "Epoch 40/100\n",
      "210/210 [==============================] - 0s 1ms/step - loss: 0.4349 - accuracy: 0.8128\n",
      "Epoch 41/100\n",
      "210/210 [==============================] - 0s 2ms/step - loss: 0.4342 - accuracy: 0.8104\n",
      "Epoch 42/100\n",
      "210/210 [==============================] - 0s 2ms/step - loss: 0.4342 - accuracy: 0.8121\n",
      "Epoch 43/100\n",
      "210/210 [==============================] - 0s 1ms/step - loss: 0.4340 - accuracy: 0.8106\n",
      "Epoch 44/100\n",
      "210/210 [==============================] - 0s 2ms/step - loss: 0.4334 - accuracy: 0.8103\n",
      "Epoch 45/100\n",
      "210/210 [==============================] - 0s 2ms/step - loss: 0.4331 - accuracy: 0.8116\n",
      "Epoch 46/100\n",
      "210/210 [==============================] - 0s 2ms/step - loss: 0.4332 - accuracy: 0.8124\n",
      "Epoch 47/100\n",
      "210/210 [==============================] - 0s 2ms/step - loss: 0.4325 - accuracy: 0.8119\n",
      "Epoch 48/100\n",
      "210/210 [==============================] - 0s 1ms/step - loss: 0.4325 - accuracy: 0.8121\n",
      "Epoch 49/100\n",
      "210/210 [==============================] - 0s 2ms/step - loss: 0.4323 - accuracy: 0.8124\n",
      "Epoch 50/100\n",
      "210/210 [==============================] - 0s 2ms/step - loss: 0.4323 - accuracy: 0.8103\n",
      "Epoch 51/100\n",
      "210/210 [==============================] - 0s 2ms/step - loss: 0.4320 - accuracy: 0.8107\n",
      "Epoch 52/100\n",
      "210/210 [==============================] - 0s 2ms/step - loss: 0.4318 - accuracy: 0.8130\n",
      "Epoch 53/100\n",
      "210/210 [==============================] - 0s 1ms/step - loss: 0.4317 - accuracy: 0.8124\n",
      "Epoch 54/100\n",
      "210/210 [==============================] - 0s 1ms/step - loss: 0.4315 - accuracy: 0.8122\n",
      "Epoch 55/100\n",
      "210/210 [==============================] - 0s 2ms/step - loss: 0.4314 - accuracy: 0.8115\n",
      "Epoch 56/100\n",
      "210/210 [==============================] - 0s 2ms/step - loss: 0.4309 - accuracy: 0.8106\n",
      "Epoch 57/100\n",
      "210/210 [==============================] - 0s 2ms/step - loss: 0.4314 - accuracy: 0.8122\n",
      "Epoch 58/100\n",
      "210/210 [==============================] - 0s 2ms/step - loss: 0.4311 - accuracy: 0.8107\n",
      "Epoch 59/100\n",
      "210/210 [==============================] - 0s 2ms/step - loss: 0.4308 - accuracy: 0.8115\n",
      "Epoch 60/100\n",
      "210/210 [==============================] - 0s 2ms/step - loss: 0.4308 - accuracy: 0.8100\n",
      "Epoch 61/100\n",
      "210/210 [==============================] - 0s 2ms/step - loss: 0.4305 - accuracy: 0.8122\n",
      "Epoch 62/100\n",
      "210/210 [==============================] - 0s 2ms/step - loss: 0.4306 - accuracy: 0.8119\n",
      "Epoch 63/100\n",
      "210/210 [==============================] - 0s 2ms/step - loss: 0.4303 - accuracy: 0.8096\n",
      "Epoch 64/100\n",
      "210/210 [==============================] - 0s 2ms/step - loss: 0.4302 - accuracy: 0.8112\n",
      "Epoch 65/100\n",
      "210/210 [==============================] - 0s 2ms/step - loss: 0.4299 - accuracy: 0.8109\n",
      "Epoch 66/100\n",
      "210/210 [==============================] - 0s 1ms/step - loss: 0.4296 - accuracy: 0.8115\n",
      "Epoch 67/100\n",
      "210/210 [==============================] - 0s 2ms/step - loss: 0.4293 - accuracy: 0.8115\n",
      "Epoch 68/100\n",
      "210/210 [==============================] - 0s 2ms/step - loss: 0.4292 - accuracy: 0.8113\n",
      "Epoch 69/100\n",
      "210/210 [==============================] - 0s 2ms/step - loss: 0.4279 - accuracy: 0.8101\n",
      "Epoch 70/100\n",
      "210/210 [==============================] - 0s 2ms/step - loss: 0.4286 - accuracy: 0.8116\n",
      "Epoch 71/100\n",
      "210/210 [==============================] - 0s 2ms/step - loss: 0.4282 - accuracy: 0.8139\n",
      "Epoch 72/100\n",
      "210/210 [==============================] - 0s 1ms/step - loss: 0.4276 - accuracy: 0.8137\n",
      "Epoch 73/100\n",
      "210/210 [==============================] - 0s 2ms/step - loss: 0.4273 - accuracy: 0.8133\n",
      "Epoch 74/100\n",
      "210/210 [==============================] - 0s 2ms/step - loss: 0.4270 - accuracy: 0.8133\n",
      "Epoch 75/100\n",
      "210/210 [==============================] - 0s 1ms/step - loss: 0.4263 - accuracy: 0.8142\n",
      "Epoch 76/100\n",
      "210/210 [==============================] - 0s 1ms/step - loss: 0.4258 - accuracy: 0.8142\n",
      "Epoch 77/100\n",
      "210/210 [==============================] - 0s 2ms/step - loss: 0.4257 - accuracy: 0.8149\n",
      "Epoch 78/100\n",
      "210/210 [==============================] - 0s 2ms/step - loss: 0.4251 - accuracy: 0.8139\n",
      "Epoch 79/100\n",
      "210/210 [==============================] - 1s 3ms/step - loss: 0.4244 - accuracy: 0.8148\n",
      "Epoch 80/100\n",
      "210/210 [==============================] - 1s 3ms/step - loss: 0.4243 - accuracy: 0.8169\n",
      "Epoch 81/100\n"
     ]
    },
    {
     "name": "stdout",
     "output_type": "stream",
     "text": [
      "210/210 [==============================] - 0s 2ms/step - loss: 0.4235 - accuracy: 0.8163\n",
      "Epoch 82/100\n",
      "210/210 [==============================] - 0s 2ms/step - loss: 0.4229 - accuracy: 0.8182\n",
      "Epoch 83/100\n",
      "210/210 [==============================] - 0s 2ms/step - loss: 0.4225 - accuracy: 0.8157\n",
      "Epoch 84/100\n",
      "210/210 [==============================] - 0s 1ms/step - loss: 0.4219 - accuracy: 0.8179\n",
      "Epoch 85/100\n",
      "210/210 [==============================] - 0s 1ms/step - loss: 0.4212 - accuracy: 0.8163\n",
      "Epoch 86/100\n",
      "210/210 [==============================] - 0s 1ms/step - loss: 0.4206 - accuracy: 0.8167\n",
      "Epoch 87/100\n",
      "210/210 [==============================] - 0s 2ms/step - loss: 0.4202 - accuracy: 0.8194\n",
      "Epoch 88/100\n",
      "210/210 [==============================] - 0s 2ms/step - loss: 0.4197 - accuracy: 0.8207\n",
      "Epoch 89/100\n",
      "210/210 [==============================] - 0s 2ms/step - loss: 0.4190 - accuracy: 0.8215\n",
      "Epoch 90/100\n",
      "210/210 [==============================] - 1s 3ms/step - loss: 0.4184 - accuracy: 0.8221\n",
      "Epoch 91/100\n",
      "210/210 [==============================] - 0s 2ms/step - loss: 0.4174 - accuracy: 0.8215\n",
      "Epoch 92/100\n",
      "210/210 [==============================] - 0s 2ms/step - loss: 0.4162 - accuracy: 0.8187\n",
      "Epoch 93/100\n",
      "210/210 [==============================] - 0s 1ms/step - loss: 0.4159 - accuracy: 0.8204\n",
      "Epoch 94/100\n",
      "210/210 [==============================] - 0s 2ms/step - loss: 0.4152 - accuracy: 0.8213\n",
      "Epoch 95/100\n",
      "210/210 [==============================] - 0s 1ms/step - loss: 0.4142 - accuracy: 0.8212\n",
      "Epoch 96/100\n",
      "210/210 [==============================] - 0s 2ms/step - loss: 0.4134 - accuracy: 0.8219\n",
      "Epoch 97/100\n",
      "210/210 [==============================] - 0s 1ms/step - loss: 0.4124 - accuracy: 0.8242\n",
      "Epoch 98/100\n",
      "210/210 [==============================] - 0s 1ms/step - loss: 0.4118 - accuracy: 0.8230\n",
      "Epoch 99/100\n",
      "210/210 [==============================] - 0s 1ms/step - loss: 0.4105 - accuracy: 0.8255\n",
      "Epoch 100/100\n",
      "210/210 [==============================] - 0s 1ms/step - loss: 0.4099 - accuracy: 0.8248\n"
     ]
    },
    {
     "data": {
      "text/plain": [
       "<keras.callbacks.History at 0x24545487490>"
      ]
     },
     "execution_count": 109,
     "metadata": {},
     "output_type": "execute_result"
    }
   ],
   "source": [
    "model.compile(optimizer = 'SGD',loss = 'binary_crossentropy', metrics = ['accuracy'])\n",
    "model.fit(X_train, y_train, epochs = 100)"
   ]
  },
  {
   "cell_type": "code",
   "execution_count": 123,
   "id": "8ed7c3a9",
   "metadata": {},
   "outputs": [
    {
     "name": "stdout",
     "output_type": "stream",
     "text": [
      "104/104 [==============================] - 0s 1ms/step - loss: 0.3942 - accuracy: 0.8345\n"
     ]
    },
    {
     "data": {
      "text/plain": [
       "[0.3941977024078369, 0.8345454335212708]"
      ]
     },
     "execution_count": 123,
     "metadata": {},
     "output_type": "execute_result"
    }
   ],
   "source": [
    "model.evaluate(X_test, y_test)"
   ]
  },
  {
   "cell_type": "code",
   "execution_count": 124,
   "id": "b492489f",
   "metadata": {},
   "outputs": [
    {
     "name": "stdout",
     "output_type": "stream",
     "text": [
      "104/104 [==============================] - 0s 1ms/step\n"
     ]
    }
   ],
   "source": [
    "y_predict= model.predict(X_test)"
   ]
  },
  {
   "cell_type": "code",
   "execution_count": 125,
   "id": "2e883899",
   "metadata": {},
   "outputs": [
    {
     "data": {
      "text/plain": [
       "array([[0.17957164],\n",
       "       [0.10375264],\n",
       "       [0.3411321 ],\n",
       "       [0.42075625],\n",
       "       [0.05331432],\n",
       "       [0.03918768],\n",
       "       [0.26163712],\n",
       "       [0.13969943],\n",
       "       [0.37827167],\n",
       "       [0.424165  ]], dtype=float32)"
      ]
     },
     "execution_count": 125,
     "metadata": {},
     "output_type": "execute_result"
    }
   ],
   "source": [
    "y_predict[:10]"
   ]
  },
  {
   "cell_type": "code",
   "execution_count": 126,
   "id": "1b84b92e",
   "metadata": {},
   "outputs": [],
   "source": [
    "y_pred = []\n",
    "for element in y_predict:\n",
    "    if element > 0.5:\n",
    "        y_pred.append(1)\n",
    "    else:\n",
    "        y_pred.append(0)"
   ]
  },
  {
   "cell_type": "code",
   "execution_count": 127,
   "id": "946ff495",
   "metadata": {},
   "outputs": [
    {
     "data": {
      "text/plain": [
       "[0, 0, 0, 0, 0, 0, 0, 0, 0, 0]"
      ]
     },
     "execution_count": 127,
     "metadata": {},
     "output_type": "execute_result"
    }
   ],
   "source": [
    "y_pred[:10]"
   ]
  },
  {
   "cell_type": "code",
   "execution_count": 128,
   "id": "99596561",
   "metadata": {},
   "outputs": [
    {
     "data": {
      "text/plain": [
       "Text(95.72222222222221, 0.5, 'Truth')"
      ]
     },
     "execution_count": 128,
     "metadata": {},
     "output_type": "execute_result"
    },
    {
     "data": {
      "image/png": "[encoded data removed]",
      "text/plain": [
       "<Figure size 1000x700 with 2 Axes>"
      ]
     },
     "metadata": {},
     "output_type": "display_data"
    }
   ],
   "source": [
    "import seaborn as sn\n",
    "cm = tf.math.confusion_matrix(labels=y_test,predictions=y_pred)\n",
    "\n",
    "plt.figure(figsize = (10,7))\n",
    "sn.heatmap(cm, annot=True, fmt='d')\n",
    "plt.xlabel('Predicted')\n",
    "plt.ylabel('Truth')"
   ]
  },
  {
   "cell_type": "code",
   "execution_count": 129,
   "id": "11e4dc61",
   "metadata": {},
   "outputs": [
    {
     "name": "stdout",
     "output_type": "stream",
     "text": [
      "              precision    recall  f1-score   support\n",
      "\n",
      "           0       0.85      0.96      0.90      2657\n",
      "           1       0.67      0.30      0.41       643\n",
      "\n",
      "    accuracy                           0.83      3300\n",
      "   macro avg       0.76      0.63      0.66      3300\n",
      "weighted avg       0.82      0.83      0.81      3300\n",
      "\n"
     ]
    }
   ],
   "source": [
    "from sklearn.metrics import confusion_matrix , classification_report\n",
    "\n",
    "print(classification_report(y_test,y_pred))"
   ]
  },
  {
   "cell_type": "code",
   "execution_count": null,
   "id": "5e6adbb4",
   "metadata": {},
   "outputs": [],
   "source": []
  }
 ],
 "metadata": {
  "kernelspec": {
   "display_name": "Python 3 (ipykernel)",
   "language": "python",
   "name": "python3"
  },
  "language_info": {
   "codemirror_mode": {
    "name": "ipython",
    "version": 3
   },
   "file_extension": ".py",
   "mimetype": "text/x-python",
   "name": "python",
   "nbconvert_exporter": "python",
   "pygments_lexer": "ipython3",
   "version": "3.9.13"
  }
 },
 "nbformat": 4,
 "nbformat_minor": 5
}
