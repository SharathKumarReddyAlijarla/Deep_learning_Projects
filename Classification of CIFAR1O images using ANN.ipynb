{
 "cells": [
  {
   "cell_type": "code",
   "execution_count": 1,
   "id": "53c8cbd6",
   "metadata": {},
   "outputs": [],
   "source": [
    "import tensorflow as tf\n",
    "from tensorflow import keras\n",
    "import matplotlib.pyplot as plt\n",
    "%matplotlib inline\n",
    "import numpy as np\n",
    "import pandas as pd\n",
    "import seaborn as sn"
   ]
  },
  {
   "cell_type": "code",
   "execution_count": 2,
   "id": "2df9beda",
   "metadata": {},
   "outputs": [
    {
     "data": {
      "text/plain": [
       "[PhysicalDevice(name='/physical_device:CPU:0', device_type='CPU')]"
      ]
     },
     "execution_count": 2,
     "metadata": {},
     "output_type": "execute_result"
    }
   ],
   "source": [
    "tf.config.experimental.list_physical_devices()"
   ]
  },
  {
   "cell_type": "code",
   "execution_count": 3,
   "id": "0dc330bf",
   "metadata": {},
   "outputs": [],
   "source": [
    "(x_train, y_train), (x_test, y_test) = keras.datasets.cifar10.load_data()"
   ]
  },
  {
   "cell_type": "code",
   "execution_count": 4,
   "id": "0861bf3b",
   "metadata": {},
   "outputs": [
    {
     "name": "stdout",
     "output_type": "stream",
     "text": [
      "x_train shape is: (50000, 32, 32, 3)\n",
      "y_train shape is: (50000, 1)\n",
      "x_test shape is: (10000, 32, 32, 3)\n",
      "y_test shape is: (10000, 1)\n"
     ]
    }
   ],
   "source": [
    "print(\"{} shape is: {}\".format(\"x_train\", x_train.shape))\n",
    "print(\"{} shape is: {}\".format(\"y_train\", y_train.shape))\n",
    "print(\"{} shape is: {}\".format(\"x_test\", x_test.shape))\n",
    "print(\"{} shape is: {}\".format(\"y_test\", y_test.shape))"
   ]
  },
  {
   "cell_type": "code",
   "execution_count": 5,
   "id": "8d8c3543",
   "metadata": {},
   "outputs": [
    {
     "data": {
      "text/plain": [
       "array([[[ 59,  62,  63],\n",
       "        [ 43,  46,  45],\n",
       "        [ 50,  48,  43],\n",
       "        ...,\n",
       "        [158, 132, 108],\n",
       "        [152, 125, 102],\n",
       "        [148, 124, 103]],\n",
       "\n",
       "       [[ 16,  20,  20],\n",
       "        [  0,   0,   0],\n",
       "        [ 18,   8,   0],\n",
       "        ...,\n",
       "        [123,  88,  55],\n",
       "        [119,  83,  50],\n",
       "        [122,  87,  57]],\n",
       "\n",
       "       [[ 25,  24,  21],\n",
       "        [ 16,   7,   0],\n",
       "        [ 49,  27,   8],\n",
       "        ...,\n",
       "        [118,  84,  50],\n",
       "        [120,  84,  50],\n",
       "        [109,  73,  42]],\n",
       "\n",
       "       ...,\n",
       "\n",
       "       [[208, 170,  96],\n",
       "        [201, 153,  34],\n",
       "        [198, 161,  26],\n",
       "        ...,\n",
       "        [160, 133,  70],\n",
       "        [ 56,  31,   7],\n",
       "        [ 53,  34,  20]],\n",
       "\n",
       "       [[180, 139,  96],\n",
       "        [173, 123,  42],\n",
       "        [186, 144,  30],\n",
       "        ...,\n",
       "        [184, 148,  94],\n",
       "        [ 97,  62,  34],\n",
       "        [ 83,  53,  34]],\n",
       "\n",
       "       [[177, 144, 116],\n",
       "        [168, 129,  94],\n",
       "        [179, 142,  87],\n",
       "        ...,\n",
       "        [216, 184, 140],\n",
       "        [151, 118,  84],\n",
       "        [123,  92,  72]]], dtype=uint8)"
      ]
     },
     "execution_count": 5,
     "metadata": {},
     "output_type": "execute_result"
    }
   ],
   "source": [
    "x_train[0]"
   ]
  },
  {
   "cell_type": "code",
   "execution_count": 6,
   "id": "f942d72c",
   "metadata": {},
   "outputs": [
    {
     "data": {
      "text/plain": [
       "array([[6],\n",
       "       [9],\n",
       "       [9],\n",
       "       [4],\n",
       "       [1],\n",
       "       [1]], dtype=uint8)"
      ]
     },
     "execution_count": 6,
     "metadata": {},
     "output_type": "execute_result"
    }
   ],
   "source": [
    "y_train[:6]"
   ]
  },
  {
   "cell_type": "code",
   "execution_count": 7,
   "id": "1c703037",
   "metadata": {},
   "outputs": [
    {
     "data": {
      "text/plain": [
       "array([0], dtype=uint8)"
      ]
     },
     "execution_count": 7,
     "metadata": {},
     "output_type": "execute_result"
    },
    {
     "data": {
      "image/png": "[encoded data removed]",
      "text/plain": [
       "<Figure size 640x480 with 1 Axes>"
      ]
     },
     "metadata": {},
     "output_type": "display_data"
    }
   ],
   "source": [
    "plt.imshow(x_train[4563])\n",
    "y_train[4563]"
   ]
  },
  {
   "cell_type": "markdown",
   "id": "85162f36",
   "metadata": {},
   "source": [
    "## Scalling the samples"
   ]
  },
  {
   "cell_type": "code",
   "execution_count": 8,
   "id": "94457d9f",
   "metadata": {},
   "outputs": [],
   "source": [
    "x_train =  x_train/255\n",
    "x_test = x_test/255"
   ]
  },
  {
   "cell_type": "code",
   "execution_count": 9,
   "id": "a8217c21",
   "metadata": {},
   "outputs": [
    {
     "data": {
      "text/plain": [
       "array([[[0.23137255, 0.24313725, 0.24705882],\n",
       "        [0.16862745, 0.18039216, 0.17647059],\n",
       "        [0.19607843, 0.18823529, 0.16862745],\n",
       "        ...,\n",
       "        [0.61960784, 0.51764706, 0.42352941],\n",
       "        [0.59607843, 0.49019608, 0.4       ],\n",
       "        [0.58039216, 0.48627451, 0.40392157]],\n",
       "\n",
       "       [[0.0627451 , 0.07843137, 0.07843137],\n",
       "        [0.        , 0.        , 0.        ],\n",
       "        [0.07058824, 0.03137255, 0.        ],\n",
       "        ...,\n",
       "        [0.48235294, 0.34509804, 0.21568627],\n",
       "        [0.46666667, 0.3254902 , 0.19607843],\n",
       "        [0.47843137, 0.34117647, 0.22352941]],\n",
       "\n",
       "       [[0.09803922, 0.09411765, 0.08235294],\n",
       "        [0.0627451 , 0.02745098, 0.        ],\n",
       "        [0.19215686, 0.10588235, 0.03137255],\n",
       "        ...,\n",
       "        [0.4627451 , 0.32941176, 0.19607843],\n",
       "        [0.47058824, 0.32941176, 0.19607843],\n",
       "        [0.42745098, 0.28627451, 0.16470588]],\n",
       "\n",
       "       ...,\n",
       "\n",
       "       [[0.81568627, 0.66666667, 0.37647059],\n",
       "        [0.78823529, 0.6       , 0.13333333],\n",
       "        [0.77647059, 0.63137255, 0.10196078],\n",
       "        ...,\n",
       "        [0.62745098, 0.52156863, 0.2745098 ],\n",
       "        [0.21960784, 0.12156863, 0.02745098],\n",
       "        [0.20784314, 0.13333333, 0.07843137]],\n",
       "\n",
       "       [[0.70588235, 0.54509804, 0.37647059],\n",
       "        [0.67843137, 0.48235294, 0.16470588],\n",
       "        [0.72941176, 0.56470588, 0.11764706],\n",
       "        ...,\n",
       "        [0.72156863, 0.58039216, 0.36862745],\n",
       "        [0.38039216, 0.24313725, 0.13333333],\n",
       "        [0.3254902 , 0.20784314, 0.13333333]],\n",
       "\n",
       "       [[0.69411765, 0.56470588, 0.45490196],\n",
       "        [0.65882353, 0.50588235, 0.36862745],\n",
       "        [0.70196078, 0.55686275, 0.34117647],\n",
       "        ...,\n",
       "        [0.84705882, 0.72156863, 0.54901961],\n",
       "        [0.59215686, 0.4627451 , 0.32941176],\n",
       "        [0.48235294, 0.36078431, 0.28235294]]])"
      ]
     },
     "execution_count": 9,
     "metadata": {},
     "output_type": "execute_result"
    }
   ],
   "source": [
    "x_train[0]"
   ]
  },
  {
   "cell_type": "markdown",
   "id": "8c21008d",
   "metadata": {},
   "source": [
    "## One hot encoding the lables"
   ]
  },
  {
   "cell_type": "code",
   "execution_count": 16,
   "id": "cda52c0e",
   "metadata": {},
   "outputs": [],
   "source": [
    "y_train_categoricals = keras.utils.to_categorical(y_train, num_classes=10, dtype='float32')\n",
    "y_test_categorical = keras.utils.to_categorical(\n",
    "    y_test, num_classes=10, dtype='float32'\n",
    ")"
   ]
  },
  {
   "cell_type": "code",
   "execution_count": 11,
   "id": "b0d9c56e",
   "metadata": {},
   "outputs": [
    {
     "data": {
      "text/plain": [
       "array([6], dtype=uint8)"
      ]
     },
     "execution_count": 11,
     "metadata": {},
     "output_type": "execute_result"
    }
   ],
   "source": [
    "y_train[0]"
   ]
  },
  {
   "cell_type": "code",
   "execution_count": 12,
   "id": "d4e29918",
   "metadata": {},
   "outputs": [
    {
     "data": {
      "text/plain": [
       "array([0., 0., 0., 0., 0., 0., 1., 0., 0., 0.], dtype=float32)"
      ]
     },
     "execution_count": 12,
     "metadata": {},
     "output_type": "execute_result"
    }
   ],
   "source": [
    "y_train_categoricals[0]"
   ]
  },
  {
   "cell_type": "code",
   "execution_count": 13,
   "id": "7d40ca63",
   "metadata": {},
   "outputs": [],
   "source": [
    "model = keras.Sequential([\n",
    "    keras.layers.Flatten(input_shape=(32,32,3)),\n",
    "    keras.layers.Dense(3000, activation='relu'),\n",
    "    keras.layers.Dense(1500, activation= 'relu'),\n",
    "    keras.layers.Dense(10, activation= 'sigmoid'),\n",
    "])"
   ]
  },
  {
   "cell_type": "code",
   "execution_count": 14,
   "id": "3254ad65",
   "metadata": {},
   "outputs": [
    {
     "name": "stdout",
     "output_type": "stream",
     "text": [
      "Epoch 1/50\n",
      "1563/1563 [==============================] - 362s 231ms/step - loss: 1.8908 - accuracy: 0.3259\n",
      "Epoch 2/50\n",
      "1563/1563 [==============================] - 361s 231ms/step - loss: 1.6647 - accuracy: 0.4030\n",
      "Epoch 3/50\n",
      "1563/1563 [==============================] - 357s 228ms/step - loss: 1.5915 - accuracy: 0.4294\n",
      "Epoch 4/50\n",
      "1563/1563 [==============================] - 355s 227ms/step - loss: 1.5444 - accuracy: 0.4476\n",
      "Epoch 5/50\n",
      "1563/1563 [==============================] - 360s 230ms/step - loss: 1.5063 - accuracy: 0.4601\n",
      "Epoch 6/50\n",
      "1563/1563 [==============================] - 356s 228ms/step - loss: 1.4817 - accuracy: 0.4682\n",
      "Epoch 7/50\n",
      "1563/1563 [==============================] - 355s 227ms/step - loss: 1.4584 - accuracy: 0.4764\n",
      "Epoch 8/50\n",
      "1563/1563 [==============================] - 354s 227ms/step - loss: 1.4335 - accuracy: 0.4835\n",
      "Epoch 9/50\n",
      "1563/1563 [==============================] - 357s 228ms/step - loss: 1.4131 - accuracy: 0.4917\n",
      "Epoch 10/50\n",
      "1563/1563 [==============================] - 356s 228ms/step - loss: 1.3911 - accuracy: 0.5043\n",
      "Epoch 11/50\n",
      "1563/1563 [==============================] - 357s 229ms/step - loss: 1.3770 - accuracy: 0.5051\n",
      "Epoch 12/50\n",
      "1563/1563 [==============================] - 349s 223ms/step - loss: 1.3596 - accuracy: 0.5124\n",
      "Epoch 13/50\n",
      "1563/1563 [==============================] - 355s 227ms/step - loss: 1.3404 - accuracy: 0.5183\n",
      "Epoch 14/50\n",
      "1563/1563 [==============================] - 355s 227ms/step - loss: 1.3275 - accuracy: 0.5232\n",
      "Epoch 15/50\n",
      "1563/1563 [==============================] - 355s 227ms/step - loss: 1.3140 - accuracy: 0.5303\n",
      "Epoch 16/50\n",
      "1563/1563 [==============================] - 356s 228ms/step - loss: 1.3014 - accuracy: 0.5334\n",
      "Epoch 17/50\n",
      "1563/1563 [==============================] - 356s 227ms/step - loss: 1.2892 - accuracy: 0.5373\n",
      "Epoch 18/50\n",
      "1563/1563 [==============================] - 355s 227ms/step - loss: 1.2754 - accuracy: 0.5411\n",
      "Epoch 19/50\n",
      "1563/1563 [==============================] - 356s 228ms/step - loss: 1.2650 - accuracy: 0.5449\n",
      "Epoch 20/50\n",
      "1563/1563 [==============================] - 356s 228ms/step - loss: 1.2527 - accuracy: 0.5508\n",
      "Epoch 21/50\n",
      "1563/1563 [==============================] - 357s 228ms/step - loss: 1.2427 - accuracy: 0.5534\n",
      "Epoch 22/50\n",
      "1563/1563 [==============================] - 358s 229ms/step - loss: 1.2337 - accuracy: 0.5569\n",
      "Epoch 23/50\n",
      "1563/1563 [==============================] - 366s 234ms/step - loss: 1.2277 - accuracy: 0.5568\n",
      "Epoch 24/50\n",
      "1563/1563 [==============================] - 365s 234ms/step - loss: 1.2141 - accuracy: 0.5641\n",
      "Epoch 25/50\n",
      "1563/1563 [==============================] - 369s 236ms/step - loss: 1.2037 - accuracy: 0.5658\n",
      "Epoch 26/50\n",
      "1563/1563 [==============================] - 342s 219ms/step - loss: 1.1939 - accuracy: 0.5708\n",
      "Epoch 27/50\n",
      "1563/1563 [==============================] - 365s 234ms/step - loss: 1.1858 - accuracy: 0.5742\n",
      "Epoch 28/50\n",
      "1563/1563 [==============================] - 378s 242ms/step - loss: 1.1753 - accuracy: 0.5773\n",
      "Epoch 29/50\n",
      "1563/1563 [==============================] - 375s 240ms/step - loss: 1.1743 - accuracy: 0.5778\n",
      "Epoch 30/50\n",
      "1563/1563 [==============================] - 390s 250ms/step - loss: 1.1646 - accuracy: 0.5807\n",
      "Epoch 31/50\n",
      "1563/1563 [==============================] - 379s 243ms/step - loss: 1.1528 - accuracy: 0.5856\n",
      "Epoch 32/50\n",
      "1563/1563 [==============================] - 390s 250ms/step - loss: 1.1455 - accuracy: 0.5867\n",
      "Epoch 33/50\n",
      "1563/1563 [==============================] - 376s 240ms/step - loss: 1.1359 - accuracy: 0.5896\n",
      "Epoch 34/50\n",
      "1563/1563 [==============================] - 327s 209ms/step - loss: 1.1365 - accuracy: 0.5908\n",
      "Epoch 35/50\n",
      "1563/1563 [==============================] - 324s 207ms/step - loss: 1.1249 - accuracy: 0.5931\n",
      "Epoch 36/50\n",
      "1563/1563 [==============================] - 326s 208ms/step - loss: 1.1205 - accuracy: 0.5957\n",
      "Epoch 37/50\n",
      "1563/1563 [==============================] - 326s 209ms/step - loss: 1.1100 - accuracy: 0.5994\n",
      "Epoch 38/50\n",
      "1563/1563 [==============================] - 328s 210ms/step - loss: 1.1078 - accuracy: 0.6001\n",
      "Epoch 39/50\n",
      "1563/1563 [==============================] - 316s 202ms/step - loss: 1.0973 - accuracy: 0.6027\n",
      "Epoch 40/50\n",
      "1563/1563 [==============================] - 319s 204ms/step - loss: 1.0930 - accuracy: 0.6056\n",
      "Epoch 41/50\n",
      "1563/1563 [==============================] - 319s 204ms/step - loss: 1.0888 - accuracy: 0.6071\n",
      "Epoch 42/50\n",
      "1563/1563 [==============================] - 323s 206ms/step - loss: 1.0803 - accuracy: 0.6098\n",
      "Epoch 43/50\n",
      "1563/1563 [==============================] - 323s 207ms/step - loss: 1.0766 - accuracy: 0.6127\n",
      "Epoch 44/50\n",
      "1563/1563 [==============================] - 323s 207ms/step - loss: 1.0750 - accuracy: 0.6129\n",
      "Epoch 45/50\n",
      "1563/1563 [==============================] - 322s 206ms/step - loss: 1.0645 - accuracy: 0.6129\n",
      "Epoch 46/50\n",
      "1563/1563 [==============================] - 322s 206ms/step - loss: 1.0595 - accuracy: 0.6167\n",
      "Epoch 47/50\n",
      "1563/1563 [==============================] - 323s 206ms/step - loss: 1.0504 - accuracy: 0.6199\n",
      "Epoch 48/50\n",
      "1563/1563 [==============================] - 324s 207ms/step - loss: 1.0490 - accuracy: 0.6200\n",
      "Epoch 49/50\n",
      "1563/1563 [==============================] - 324s 207ms/step - loss: 1.0362 - accuracy: 0.6236\n",
      "Epoch 50/50\n",
      "1563/1563 [==============================] - 323s 207ms/step - loss: 1.0413 - accuracy: 0.6244\n"
     ]
    },
    {
     "data": {
      "text/plain": [
       "<keras.callbacks.History at 0x19fc028ea90>"
      ]
     },
     "execution_count": 14,
     "metadata": {},
     "output_type": "execute_result"
    }
   ],
   "source": [
    "model.compile(optimizer = 'adam',loss = 'categorical_crossentropy', metrics = ['accuracy'])\n",
    "model.fit(x_train, y_train_categoricals, epochs = 50)"
   ]
  },
  {
   "cell_type": "code",
   "execution_count": 18,
   "id": "ee552cd1",
   "metadata": {},
   "outputs": [
    {
     "name": "stdout",
     "output_type": "stream",
     "text": [
      "313/313 [==============================] - 4s 12ms/step - loss: 1.7598 - accuracy: 0.4815\n",
      "313/313 [==============================] - 4s 12ms/step\n"
     ]
    }
   ],
   "source": [
    "model.evaluate(x_test, y_test_categorical)\n",
    "y_predicted =  model.predict(x_test)"
   ]
  },
  {
   "cell_type": "code",
   "execution_count": 48,
   "id": "be29641f",
   "metadata": {},
   "outputs": [],
   "source": [
    "cnn_model = keras.Sequential([\n",
    "    ##Convolution Layers:\n",
    "    keras.layers.Conv2D(filters=32, kernel_size=(3,3), activation='relu', input_shape= (32,32,3)),\n",
    "    keras.layers.MaxPooling2D((2, 2)),\n",
    "    keras.layers.Conv2D(filters=16, kernel_size=(3,3), activation='relu'),\n",
    "    keras.layers.MaxPooling2D((2, 2)),\n",
    "    \n",
    "    ##DenseLayers:\n",
    "    keras.layers.Flatten(),\n",
    "    keras.layers.Dense(1000, activation='relu'),\n",
    "    keras.layers.Dropout(0.5), #Dropout regularization\n",
    "    keras.layers.Dense(250, activation= 'relu'),\n",
    "    keras.layers.Dense(10, activation= 'softmax'),\n",
    "])"
   ]
  },
  {
   "cell_type": "code",
   "execution_count": 49,
   "id": "ac2ce44e",
   "metadata": {},
   "outputs": [
    {
     "name": "stdout",
     "output_type": "stream",
     "text": [
      "Epoch 1/50\n",
      "1563/1563 [==============================] - 54s 34ms/step - loss: 1.4799 - accuracy: 0.4614\n",
      "Epoch 2/50\n",
      "1563/1563 [==============================] - 81s 52ms/step - loss: 1.1529 - accuracy: 0.5929\n",
      "Epoch 3/50\n",
      "1563/1563 [==============================] - 45s 29ms/step - loss: 1.0179 - accuracy: 0.6416\n",
      "Epoch 4/50\n",
      "1563/1563 [==============================] - 66s 42ms/step - loss: 0.9234 - accuracy: 0.6735\n",
      "Epoch 5/50\n",
      "1563/1563 [==============================] - 45s 29ms/step - loss: 0.8540 - accuracy: 0.7005\n",
      "Epoch 6/50\n",
      "1563/1563 [==============================] - 58s 37ms/step - loss: 0.7969 - accuracy: 0.7192\n",
      "Epoch 7/50\n",
      "1563/1563 [==============================] - 51s 33ms/step - loss: 0.7357 - accuracy: 0.7395\n",
      "Epoch 8/50\n",
      "1563/1563 [==============================] - 64s 41ms/step - loss: 0.6856 - accuracy: 0.7578\n",
      "Epoch 9/50\n",
      "1563/1563 [==============================] - 73s 47ms/step - loss: 0.6363 - accuracy: 0.7721\n",
      "Epoch 10/50\n",
      "1563/1563 [==============================] - 61s 39ms/step - loss: 0.5978 - accuracy: 0.7861\n",
      "Epoch 11/50\n",
      "1563/1563 [==============================] - 48s 31ms/step - loss: 0.5588 - accuracy: 0.7992\n",
      "Epoch 12/50\n",
      "1563/1563 [==============================] - 48s 31ms/step - loss: 0.5283 - accuracy: 0.8127\n",
      "Epoch 13/50\n",
      "1563/1563 [==============================] - 72s 46ms/step - loss: 0.4972 - accuracy: 0.8246\n",
      "Epoch 14/50\n",
      "1563/1563 [==============================] - 70s 45ms/step - loss: 0.4670 - accuracy: 0.8313\n",
      "Epoch 15/50\n",
      "1563/1563 [==============================] - 49s 32ms/step - loss: 0.4445 - accuracy: 0.8429\n",
      "Epoch 16/50\n",
      "1563/1563 [==============================] - 48s 31ms/step - loss: 0.4240 - accuracy: 0.8477\n",
      "Epoch 17/50\n",
      "1563/1563 [==============================] - 54s 35ms/step - loss: 0.4074 - accuracy: 0.8562\n",
      "Epoch 18/50\n",
      "1563/1563 [==============================] - 64s 41ms/step - loss: 0.3851 - accuracy: 0.8629\n",
      "Epoch 19/50\n",
      "1563/1563 [==============================] - 74s 47ms/step - loss: 0.3742 - accuracy: 0.8670\n",
      "Epoch 20/50\n",
      "1563/1563 [==============================] - 74s 47ms/step - loss: 0.3595 - accuracy: 0.8727\n",
      "Epoch 21/50\n",
      "1563/1563 [==============================] - 74s 47ms/step - loss: 0.3501 - accuracy: 0.8766\n",
      "Epoch 22/50\n",
      "1563/1563 [==============================] - 71s 46ms/step - loss: 0.3331 - accuracy: 0.8818\n",
      "Epoch 23/50\n",
      "1563/1563 [==============================] - 75s 48ms/step - loss: 0.3267 - accuracy: 0.8839\n",
      "Epoch 24/50\n",
      "1563/1563 [==============================] - 72s 46ms/step - loss: 0.3160 - accuracy: 0.8888\n",
      "Epoch 25/50\n",
      "1563/1563 [==============================] - 63s 40ms/step - loss: 0.3064 - accuracy: 0.8919\n",
      "Epoch 26/50\n",
      "1563/1563 [==============================] - 70s 45ms/step - loss: 0.3004 - accuracy: 0.8954\n",
      "Epoch 27/50\n",
      "1563/1563 [==============================] - 69s 44ms/step - loss: 0.2900 - accuracy: 0.8995\n",
      "Epoch 28/50\n",
      "1563/1563 [==============================] - 57s 36ms/step - loss: 0.2865 - accuracy: 0.9005\n",
      "Epoch 29/50\n",
      "1563/1563 [==============================] - 47s 30ms/step - loss: 0.2741 - accuracy: 0.9057\n",
      "Epoch 30/50\n",
      "1563/1563 [==============================] - 51s 33ms/step - loss: 0.2688 - accuracy: 0.9059\n",
      "Epoch 31/50\n",
      "1563/1563 [==============================] - 52s 33ms/step - loss: 0.2633 - accuracy: 0.9082\n",
      "Epoch 32/50\n",
      "1563/1563 [==============================] - 61s 39ms/step - loss: 0.2603 - accuracy: 0.9109\n",
      "Epoch 33/50\n",
      "1563/1563 [==============================] - 57s 37ms/step - loss: 0.2530 - accuracy: 0.9110\n",
      "Epoch 34/50\n",
      "1563/1563 [==============================] - 60s 39ms/step - loss: 0.2444 - accuracy: 0.9156\n",
      "Epoch 35/50\n",
      "1563/1563 [==============================] - 59s 38ms/step - loss: 0.2443 - accuracy: 0.9158\n",
      "Epoch 36/50\n",
      "1563/1563 [==============================] - 56s 36ms/step - loss: 0.2360 - accuracy: 0.9189\n",
      "Epoch 37/50\n",
      "1563/1563 [==============================] - 54s 35ms/step - loss: 0.2314 - accuracy: 0.9219\n",
      "Epoch 38/50\n",
      "1563/1563 [==============================] - 48s 31ms/step - loss: 0.2382 - accuracy: 0.9189\n",
      "Epoch 39/50\n",
      "1563/1563 [==============================] - 49s 31ms/step - loss: 0.2233 - accuracy: 0.9239\n",
      "Epoch 40/50\n",
      "1563/1563 [==============================] - 48s 30ms/step - loss: 0.2180 - accuracy: 0.9256\n",
      "Epoch 41/50\n",
      "1563/1563 [==============================] - 48s 31ms/step - loss: 0.2210 - accuracy: 0.9246\n",
      "Epoch 42/50\n",
      "1563/1563 [==============================] - 47s 30ms/step - loss: 0.2180 - accuracy: 0.9264\n",
      "Epoch 43/50\n",
      "1563/1563 [==============================] - 48s 31ms/step - loss: 0.2083 - accuracy: 0.9303\n",
      "Epoch 44/50\n",
      "1563/1563 [==============================] - 50s 32ms/step - loss: 0.2139 - accuracy: 0.9271\n",
      "Epoch 45/50\n",
      "1563/1563 [==============================] - 47s 30ms/step - loss: 0.2104 - accuracy: 0.9285\n",
      "Epoch 46/50\n",
      "1563/1563 [==============================] - 48s 31ms/step - loss: 0.1988 - accuracy: 0.9323\n",
      "Epoch 47/50\n",
      "1563/1563 [==============================] - 47s 30ms/step - loss: 0.1989 - accuracy: 0.9332\n",
      "Epoch 48/50\n",
      "1563/1563 [==============================] - 47s 30ms/step - loss: 0.2018 - accuracy: 0.9330\n",
      "Epoch 49/50\n",
      "1563/1563 [==============================] - 47s 30ms/step - loss: 0.1939 - accuracy: 0.9340\n",
      "Epoch 50/50\n",
      "1563/1563 [==============================] - 47s 30ms/step - loss: 0.1999 - accuracy: 0.9326\n"
     ]
    },
    {
     "data": {
      "text/plain": [
       "<keras.callbacks.History at 0x1a023bc6d60>"
      ]
     },
     "execution_count": 49,
     "metadata": {},
     "output_type": "execute_result"
    }
   ],
   "source": [
    "cnn_model.compile(optimizer = 'adam',loss = 'categorical_crossentropy', metrics = ['accuracy'])\n",
    "cnn_model.fit(x_train, y_train_categoricals, epochs = 50)"
   ]
  },
  {
   "cell_type": "code",
   "execution_count": 50,
   "id": "a751bc7d",
   "metadata": {},
   "outputs": [
    {
     "name": "stdout",
     "output_type": "stream",
     "text": [
      "313/313 [==============================] - 2s 7ms/step - loss: 1.2192 - accuracy: 0.7088\n",
      "313/313 [==============================] - 2s 7ms/step\n"
     ]
    }
   ],
   "source": [
    "cnn_model.evaluate(x_test, y_test_categorical)\n",
    "y_predicted =  cnn_model.predict(x_test)"
   ]
  },
  {
   "cell_type": "markdown",
   "id": "9593d53c",
   "metadata": {},
   "source": [
    "#### The training accuracy is much greater tha the test accuracy for about an 23%. It can be understood that model is overfit. As there is no augmented data used for training the model, the model tend to overfit. "
   ]
  },
  {
   "cell_type": "code",
   "execution_count": 51,
   "id": "a9db5731",
   "metadata": {},
   "outputs": [
    {
     "data": {
      "text/plain": [
       "(10000, 10)"
      ]
     },
     "execution_count": 51,
     "metadata": {},
     "output_type": "execute_result"
    }
   ],
   "source": [
    "y_predicted.shape"
   ]
  },
  {
   "cell_type": "code",
   "execution_count": 52,
   "id": "ef36a07e",
   "metadata": {},
   "outputs": [
    {
     "data": {
      "text/plain": [
       "array([0.02214972, 0.00433534, 0.00268314, 0.19594394, 0.00274738,\n",
       "       0.6526068 , 0.01825264, 0.00122016, 0.09029397, 0.00976688],\n",
       "      dtype=float32)"
      ]
     },
     "execution_count": 52,
     "metadata": {},
     "output_type": "execute_result"
    }
   ],
   "source": [
    "y_predicted[0]"
   ]
  },
  {
   "cell_type": "code",
   "execution_count": 54,
   "id": "02d6114c",
   "metadata": {},
   "outputs": [
    {
     "data": {
      "text/plain": [
       "[5, 8, 8, 0, 6, 6, 3, 6, 3, 1]"
      ]
     },
     "execution_count": 54,
     "metadata": {},
     "output_type": "execute_result"
    }
   ],
   "source": [
    "y_pred = [np.argmax(i) for i in y_predicted]\n",
    "y_pred[:10]"
   ]
  },
  {
   "cell_type": "code",
   "execution_count": 55,
   "id": "8980501d",
   "metadata": {},
   "outputs": [
    {
     "data": {
      "text/plain": [
       "array([3, 8, 8, ..., 5, 1, 7], dtype=uint8)"
      ]
     },
     "execution_count": 55,
     "metadata": {},
     "output_type": "execute_result"
    }
   ],
   "source": [
    "y_test_reshaped = y_test.reshape(-1)\n",
    "y_test_reshaped"
   ]
  },
  {
   "cell_type": "code",
   "execution_count": 56,
   "id": "c10759ac",
   "metadata": {},
   "outputs": [
    {
     "name": "stdout",
     "output_type": "stream",
     "text": [
      "Classification Report: \n",
      "               precision    recall  f1-score   support\n",
      "\n",
      "           0       0.79      0.74      0.76      1000\n",
      "           1       0.81      0.85      0.83      1000\n",
      "           2       0.68      0.51      0.58      1000\n",
      "           3       0.48      0.48      0.48      1000\n",
      "           4       0.64      0.69      0.67      1000\n",
      "           5       0.59      0.60      0.59      1000\n",
      "           6       0.74      0.83      0.78      1000\n",
      "           7       0.77      0.75      0.76      1000\n",
      "           8       0.82      0.82      0.82      1000\n",
      "           9       0.76      0.82      0.79      1000\n",
      "\n",
      "    accuracy                           0.71     10000\n",
      "   macro avg       0.71      0.71      0.71     10000\n",
      "weighted avg       0.71      0.71      0.71     10000\n",
      "\n"
     ]
    }
   ],
   "source": [
    "from sklearn.metrics import confusion_matrix , classification_report\n",
    "print(\"Classification Report: \\n\", classification_report(y_test_reshaped, y_pred ))"
   ]
  },
  {
   "cell_type": "code",
   "execution_count": 59,
   "id": "1a79970c",
   "metadata": {},
   "outputs": [
    {
     "name": "stdout",
     "output_type": "stream",
     "text": [
      "WARNING:tensorflow:Using a while_loop for converting RngReadAndSkip cause there is no registered converter for this op.\n",
      "WARNING:tensorflow:Using a while_loop for converting Bitcast cause there is no registered converter for this op.\n",
      "WARNING:tensorflow:Using a while_loop for converting Bitcast cause there is no registered converter for this op.\n",
      "WARNING:tensorflow:Using a while_loop for converting StatelessRandomUniformV2 cause there is no registered converter for this op.\n",
      "WARNING:tensorflow:Using a while_loop for converting ImageProjectiveTransformV3 cause there is no registered converter for this op.\n",
      "WARNING:tensorflow:Using a while_loop for converting RngReadAndSkip cause there is no registered converter for this op.\n",
      "WARNING:tensorflow:Using a while_loop for converting Bitcast cause there is no registered converter for this op.\n",
      "WARNING:tensorflow:Using a while_loop for converting Bitcast cause there is no registered converter for this op.\n",
      "WARNING:tensorflow:Using a while_loop for converting StatelessRandomUniformV2 cause there is no registered converter for this op.\n",
      "WARNING:tensorflow:Using a while_loop for converting ImageProjectiveTransformV3 cause there is no registered converter for this op.\n"
     ]
    }
   ],
   "source": [
    "data_augmentation = keras.Sequential(\n",
    "  [\n",
    "    keras.layers.experimental.preprocessing.RandomFlip(\"horizontal\", \n",
    "                                                 input_shape=(32, \n",
    "                                                              32,\n",
    "                                                              3)),\n",
    "    keras.layers.experimental.preprocessing.RandomRotation(0.1),\n",
    "    keras.layers.experimental.preprocessing.RandomZoom(0.1),\n",
    "  ]\n",
    ")"
   ]
  },
  {
   "cell_type": "code",
   "execution_count": 69,
   "id": "83ca3141",
   "metadata": {},
   "outputs": [
    {
     "name": "stdout",
     "output_type": "stream",
     "text": [
      "WARNING:tensorflow:Using a while_loop for converting RngReadAndSkip cause there is no registered converter for this op.\n",
      "WARNING:tensorflow:Using a while_loop for converting Bitcast cause there is no registered converter for this op.\n",
      "WARNING:tensorflow:Using a while_loop for converting Bitcast cause there is no registered converter for this op.\n",
      "WARNING:tensorflow:Using a while_loop for converting StatelessRandomUniformV2 cause there is no registered converter for this op.\n",
      "WARNING:tensorflow:Using a while_loop for converting ImageProjectiveTransformV3 cause there is no registered converter for this op.\n",
      "WARNING:tensorflow:Using a while_loop for converting RngReadAndSkip cause there is no registered converter for this op.\n",
      "WARNING:tensorflow:Using a while_loop for converting Bitcast cause there is no registered converter for this op.\n",
      "WARNING:tensorflow:Using a while_loop for converting Bitcast cause there is no registered converter for this op.\n",
      "WARNING:tensorflow:Using a while_loop for converting StatelessRandomUniformV2 cause there is no registered converter for this op.\n",
      "WARNING:tensorflow:Using a while_loop for converting ImageProjectiveTransformV3 cause there is no registered converter for this op.\n"
     ]
    }
   ],
   "source": [
    "cnn_model_aug = keras.Sequential([\n",
    "    \n",
    "    data_augmentation,\n",
    "    \n",
    "    ##Convolution Layers:\n",
    "    keras.layers.Conv2D(filters=32, kernel_size=(3,3), activation='relu', input_shape= (32,32,3)),\n",
    "    keras.layers.MaxPooling2D((2, 2)),\n",
    "    keras.layers.Conv2D(filters=64, kernel_size=(3,3), activation='relu'),\n",
    "    keras.layers.MaxPooling2D((2, 2)),\n",
    "    keras.layers.Conv2D(filters=128, kernel_size=(3,3), activation='relu'),\n",
    "    keras.layers.MaxPooling2D((2, 2)),\n",
    "    ##DenseLayers:\n",
    "    keras.layers.Flatten(),\n",
    "    keras.layers.Dense(3000, activation='relu'),\n",
    "    keras.layers.Dropout(0.5), #Dropout regularization\n",
    "    keras.layers.Dense(800, activation= 'relu'),\n",
    "    keras.layers.Dropout(0.5), #Dropout regularization\n",
    "    keras.layers.Dense(10, activation= 'softmax'),\n",
    "])"
   ]
  },
  {
   "cell_type": "code",
   "execution_count": 70,
   "id": "79112c75",
   "metadata": {},
   "outputs": [
    {
     "name": "stdout",
     "output_type": "stream",
     "text": [
      "Epoch 1/50\n",
      "WARNING:tensorflow:Using a while_loop for converting RngReadAndSkip cause there is no registered converter for this op.\n",
      "WARNING:tensorflow:Using a while_loop for converting Bitcast cause there is no registered converter for this op.\n",
      "WARNING:tensorflow:Using a while_loop for converting Bitcast cause there is no registered converter for this op.\n",
      "WARNING:tensorflow:Using a while_loop for converting StatelessRandomUniformV2 cause there is no registered converter for this op.\n",
      "WARNING:tensorflow:Using a while_loop for converting ImageProjectiveTransformV3 cause there is no registered converter for this op.\n",
      "WARNING:tensorflow:Using a while_loop for converting RngReadAndSkip cause there is no registered converter for this op.\n",
      "WARNING:tensorflow:Using a while_loop for converting Bitcast cause there is no registered converter for this op.\n",
      "WARNING:tensorflow:Using a while_loop for converting Bitcast cause there is no registered converter for this op.\n",
      "WARNING:tensorflow:Using a while_loop for converting StatelessRandomUniformV2 cause there is no registered converter for this op.\n",
      "WARNING:tensorflow:Using a while_loop for converting ImageProjectiveTransformV3 cause there is no registered converter for this op.\n",
      "WARNING:tensorflow:Using a while_loop for converting RngReadAndSkip cause there is no registered converter for this op.\n",
      "WARNING:tensorflow:Using a while_loop for converting Bitcast cause there is no registered converter for this op.\n",
      "WARNING:tensorflow:Using a while_loop for converting Bitcast cause there is no registered converter for this op.\n",
      "WARNING:tensorflow:Using a while_loop for converting StatelessRandomUniformV2 cause there is no registered converter for this op.\n",
      "WARNING:tensorflow:Using a while_loop for converting ImageProjectiveTransformV3 cause there is no registered converter for this op.\n",
      "WARNING:tensorflow:Using a while_loop for converting RngReadAndSkip cause there is no registered converter for this op.\n",
      "WARNING:tensorflow:Using a while_loop for converting Bitcast cause there is no registered converter for this op.\n",
      "WARNING:tensorflow:Using a while_loop for converting Bitcast cause there is no registered converter for this op.\n",
      "WARNING:tensorflow:Using a while_loop for converting StatelessRandomUniformV2 cause there is no registered converter for this op.\n",
      "WARNING:tensorflow:Using a while_loop for converting ImageProjectiveTransformV3 cause there is no registered converter for this op.\n",
      "1563/1563 [==============================] - 182s 113ms/step - loss: 1.6822 - accuracy: 0.3711\n",
      "Epoch 2/50\n",
      "1563/1563 [==============================] - 169s 108ms/step - loss: 1.4124 - accuracy: 0.4908\n",
      "Epoch 3/50\n",
      "1563/1563 [==============================] - 183s 117ms/step - loss: 1.2986 - accuracy: 0.5402\n",
      "Epoch 4/50\n",
      "1563/1563 [==============================] - 214s 137ms/step - loss: 1.2361 - accuracy: 0.5642\n",
      "Epoch 5/50\n",
      "1563/1563 [==============================] - 178s 114ms/step - loss: 1.1918 - accuracy: 0.5832\n",
      "Epoch 6/50\n",
      "1563/1563 [==============================] - 149s 95ms/step - loss: 1.1559 - accuracy: 0.5951\n",
      "Epoch 7/50\n",
      "1563/1563 [==============================] - 197s 126ms/step - loss: 1.1269 - accuracy: 0.6067\n",
      "Epoch 8/50\n",
      "1563/1563 [==============================] - 183s 117ms/step - loss: 1.1011 - accuracy: 0.6165\n",
      "Epoch 9/50\n",
      "1563/1563 [==============================] - 147s 94ms/step - loss: 1.0855 - accuracy: 0.6243\n",
      "Epoch 10/50\n",
      "1563/1563 [==============================] - 169s 108ms/step - loss: 1.0708 - accuracy: 0.6269\n",
      "Epoch 11/50\n",
      "1563/1563 [==============================] - 155s 99ms/step - loss: 1.0580 - accuracy: 0.6331\n",
      "Epoch 12/50\n",
      "1563/1563 [==============================] - 138s 88ms/step - loss: 1.0430 - accuracy: 0.6373\n",
      "Epoch 13/50\n",
      "1563/1563 [==============================] - 138s 88ms/step - loss: 1.0287 - accuracy: 0.6439\n",
      "Epoch 14/50\n",
      "1563/1563 [==============================] - 158s 101ms/step - loss: 1.0176 - accuracy: 0.6473\n",
      "Epoch 15/50\n",
      "1563/1563 [==============================] - 182s 117ms/step - loss: 1.0069 - accuracy: 0.6501\n",
      "Epoch 16/50\n",
      "1563/1563 [==============================] - 160s 102ms/step - loss: 0.9974 - accuracy: 0.6554\n",
      "Epoch 17/50\n",
      "1563/1563 [==============================] - 166s 106ms/step - loss: 0.9876 - accuracy: 0.6596\n",
      "Epoch 18/50\n",
      "1563/1563 [==============================] - 208s 133ms/step - loss: 0.9848 - accuracy: 0.6587\n",
      "Epoch 19/50\n",
      "1563/1563 [==============================] - 141s 90ms/step - loss: 0.9777 - accuracy: 0.6614\n",
      "Epoch 20/50\n",
      "1563/1563 [==============================] - 152s 97ms/step - loss: 0.9675 - accuracy: 0.6644\n",
      "Epoch 21/50\n",
      "1563/1563 [==============================] - 144s 92ms/step - loss: 0.9672 - accuracy: 0.6668\n",
      "Epoch 22/50\n",
      "1563/1563 [==============================] - 145s 93ms/step - loss: 0.9559 - accuracy: 0.6692\n",
      "Epoch 23/50\n",
      "1563/1563 [==============================] - 144s 92ms/step - loss: 0.9559 - accuracy: 0.6722\n",
      "Epoch 24/50\n",
      "1563/1563 [==============================] - 156s 100ms/step - loss: 0.9597 - accuracy: 0.6708\n",
      "Epoch 25/50\n",
      "1563/1563 [==============================] - 200s 128ms/step - loss: 0.9451 - accuracy: 0.6740\n",
      "Epoch 26/50\n",
      "1563/1563 [==============================] - 164s 105ms/step - loss: 0.9512 - accuracy: 0.6731\n",
      "Epoch 27/50\n",
      "1563/1563 [==============================] - 166s 106ms/step - loss: 0.9425 - accuracy: 0.6764\n",
      "Epoch 28/50\n",
      "1563/1563 [==============================] - 140s 90ms/step - loss: 0.9403 - accuracy: 0.6787\n",
      "Epoch 29/50\n",
      "1563/1563 [==============================] - 150s 96ms/step - loss: 0.9359 - accuracy: 0.6803\n",
      "Epoch 30/50\n",
      "1563/1563 [==============================] - 150s 96ms/step - loss: 0.9303 - accuracy: 0.6813\n",
      "Epoch 31/50\n",
      "1563/1563 [==============================] - 157s 101ms/step - loss: 0.9267 - accuracy: 0.6817\n",
      "Epoch 32/50\n",
      "1563/1563 [==============================] - 153s 98ms/step - loss: 0.9236 - accuracy: 0.6833\n",
      "Epoch 33/50\n",
      "1563/1563 [==============================] - 161s 103ms/step - loss: 0.9303 - accuracy: 0.6819\n",
      "Epoch 34/50\n",
      "1563/1563 [==============================] - 154s 98ms/step - loss: 0.9266 - accuracy: 0.6813\n",
      "Epoch 35/50\n",
      "1563/1563 [==============================] - 163s 104ms/step - loss: 0.9202 - accuracy: 0.6860\n",
      "Epoch 36/50\n",
      "1563/1563 [==============================] - 152s 97ms/step - loss: 0.9154 - accuracy: 0.6850\n",
      "Epoch 37/50\n",
      "1563/1563 [==============================] - 162s 104ms/step - loss: 0.9126 - accuracy: 0.6862\n",
      "Epoch 38/50\n",
      "1563/1563 [==============================] - 158s 101ms/step - loss: 0.9122 - accuracy: 0.6867\n",
      "Epoch 39/50\n",
      "1563/1563 [==============================] - 144s 92ms/step - loss: 0.9087 - accuracy: 0.6901\n",
      "Epoch 40/50\n",
      "1563/1563 [==============================] - 155s 99ms/step - loss: 0.9069 - accuracy: 0.6876\n",
      "Epoch 41/50\n",
      "1563/1563 [==============================] - 136s 87ms/step - loss: 0.9027 - accuracy: 0.6899\n",
      "Epoch 42/50\n",
      "1563/1563 [==============================] - 150s 96ms/step - loss: 0.9071 - accuracy: 0.6887\n",
      "Epoch 43/50\n",
      "1563/1563 [==============================] - 147s 94ms/step - loss: 0.8998 - accuracy: 0.6921\n",
      "Epoch 44/50\n",
      "1563/1563 [==============================] - 154s 98ms/step - loss: 0.8983 - accuracy: 0.6926\n",
      "Epoch 45/50\n",
      "1563/1563 [==============================] - 161s 103ms/step - loss: 0.8932 - accuracy: 0.6956\n",
      "Epoch 46/50\n",
      "1563/1563 [==============================] - 146s 93ms/step - loss: 0.8996 - accuracy: 0.6921\n",
      "Epoch 47/50\n",
      "1563/1563 [==============================] - 145s 93ms/step - loss: 0.8945 - accuracy: 0.6955\n",
      "Epoch 48/50\n",
      "1563/1563 [==============================] - 143s 92ms/step - loss: 0.8970 - accuracy: 0.6943\n",
      "Epoch 49/50\n",
      "1563/1563 [==============================] - 149s 95ms/step - loss: 0.8902 - accuracy: 0.6956\n",
      "Epoch 50/50\n",
      "1563/1563 [==============================] - 144s 92ms/step - loss: 0.8944 - accuracy: 0.6963\n"
     ]
    },
    {
     "data": {
      "text/plain": [
       "<keras.callbacks.History at 0x1a0397acd30>"
      ]
     },
     "execution_count": 70,
     "metadata": {},
     "output_type": "execute_result"
    }
   ],
   "source": [
    "cnn_model_aug.compile(optimizer = 'adam',loss = 'categorical_crossentropy', metrics = ['accuracy'])\n",
    "cnn_model_aug.fit(x_train, y_train_categoricals, epochs = 50)"
   ]
  },
  {
   "cell_type": "code",
   "execution_count": 71,
   "id": "8d64057d",
   "metadata": {},
   "outputs": [
    {
     "name": "stdout",
     "output_type": "stream",
     "text": [
      "313/313 [==============================] - 4s 13ms/step - loss: 0.8992 - accuracy: 0.6915\n",
      "313/313 [==============================] - 2s 7ms/step\n"
     ]
    }
   ],
   "source": [
    "cnn_model_aug.evaluate(x_test, y_test_categorical)\n",
    "y_predicted =  cnn_model.predict(x_test)"
   ]
  },
  {
   "cell_type": "code",
   "execution_count": 72,
   "id": "479201a1",
   "metadata": {},
   "outputs": [
    {
     "name": "stdout",
     "output_type": "stream",
     "text": [
      "Classification Report: \n",
      "               precision    recall  f1-score   support\n",
      "\n",
      "           0       0.79      0.74      0.76      1000\n",
      "           1       0.81      0.85      0.83      1000\n",
      "           2       0.68      0.51      0.58      1000\n",
      "           3       0.48      0.48      0.48      1000\n",
      "           4       0.64      0.69      0.67      1000\n",
      "           5       0.59      0.60      0.59      1000\n",
      "           6       0.74      0.83      0.78      1000\n",
      "           7       0.77      0.75      0.76      1000\n",
      "           8       0.82      0.82      0.82      1000\n",
      "           9       0.76      0.82      0.79      1000\n",
      "\n",
      "    accuracy                           0.71     10000\n",
      "   macro avg       0.71      0.71      0.71     10000\n",
      "weighted avg       0.71      0.71      0.71     10000\n",
      "\n"
     ]
    }
   ],
   "source": [
    "from sklearn.metrics import confusion_matrix , classification_report\n",
    "print(\"Classification Report: \\n\", classification_report(y_test_reshaped, y_pred ))"
   ]
  },
  {
   "cell_type": "code",
   "execution_count": null,
   "id": "880adc8f",
   "metadata": {},
   "outputs": [],
   "source": []
  }
 ],
 "metadata": {
  "kernelspec": {
   "display_name": "Python 3 (ipykernel)",
   "language": "python",
   "name": "python3"
  },
  "language_info": {
   "codemirror_mode": {
    "name": "ipython",
    "version": 3
   },
   "file_extension": ".py",
   "mimetype": "text/x-python",
   "name": "python",
   "nbconvert_exporter": "python",
   "pygments_lexer": "ipython3",
   "version": "3.9.13"
  }
 },
 "nbformat": 4,
 "nbformat_minor": 5
}
